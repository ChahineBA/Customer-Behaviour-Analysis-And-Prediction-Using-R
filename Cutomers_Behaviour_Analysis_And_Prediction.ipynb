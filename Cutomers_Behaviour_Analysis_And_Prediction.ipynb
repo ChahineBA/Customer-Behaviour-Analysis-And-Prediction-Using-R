{
  "cells": [
    {
      "cell_type": "markdown",
      "metadata": {
        "id": "view-in-github",
        "colab_type": "text"
      },
      "source": [
        "<a href=\"https://colab.research.google.com/github/ChahineBA/Customer-Behaviour-Analysis-And-Prediction-Using-R/blob/main/Cutomers_Behaviour_Analysis_And_Prediction.ipynb\" target=\"_parent\"><img src=\"https://colab.research.google.com/assets/colab-badge.svg\" alt=\"Open In Colab\"/></a>"
      ]
    },
    {
      "cell_type": "markdown",
      "metadata": {
        "id": "tS_rlrOZsKA8"
      },
      "source": [
        "# Load Libraries"
      ]
    },
    {
      "cell_type": "code",
      "execution_count": null,
      "metadata": {
        "colab": {
          "base_uri": "https://localhost:8080/"
        },
        "id": "GgctJJI02Yxs",
        "outputId": "c4501401-3686-413e-c3c0-0b0d95ce6896"
      },
      "outputs": [
        {
          "name": "stderr",
          "output_type": "stream",
          "text": [
            "Installing package into ‘/usr/local/lib/R/site-library’\n",
            "(as ‘lib’ is unspecified)\n",
            "\n"
          ]
        }
      ],
      "source": [
        "install.packages(\"stringi\")"
      ]
    },
    {
      "cell_type": "code",
      "execution_count": null,
      "metadata": {
        "colab": {
          "base_uri": "https://localhost:8080/"
        },
        "id": "OncC-wq23kGJ",
        "outputId": "3982301e-cf68-4c8b-a4cb-631dd5952793"
      },
      "outputs": [
        {
          "name": "stderr",
          "output_type": "stream",
          "text": [
            "Installing package into ‘/usr/local/lib/R/site-library’\n",
            "(as ‘lib’ is unspecified)\n",
            "\n"
          ]
        }
      ],
      "source": [
        "install.packages(\"caret\")"
      ]
    },
    {
      "cell_type": "code",
      "execution_count": null,
      "metadata": {
        "colab": {
          "base_uri": "https://localhost:8080/"
        },
        "id": "B18dXbRO3495",
        "outputId": "01185934-4144-44ae-950b-4d79f91579bc"
      },
      "outputs": [
        {
          "name": "stderr",
          "output_type": "stream",
          "text": [
            "Installing package into ‘/usr/local/lib/R/site-library’\n",
            "(as ‘lib’ is unspecified)\n",
            "\n"
          ]
        }
      ],
      "source": [
        "install.packages(\"Metrics\")"
      ]
    },
    {
      "cell_type": "code",
      "execution_count": null,
      "metadata": {
        "colab": {
          "base_uri": "https://localhost:8080/"
        },
        "id": "eIJf5tdULNWA",
        "outputId": "755be190-07e0-4538-96bc-4e635b018e0e"
      },
      "outputs": [
        {
          "name": "stderr",
          "output_type": "stream",
          "text": [
            "Installing package into ‘/usr/local/lib/R/site-library’\n",
            "(as ‘lib’ is unspecified)\n",
            "\n"
          ]
        }
      ],
      "source": [
        "install.packages(\"glmnet\")\n",
        "library(glmnet)"
      ]
    },
    {
      "cell_type": "code",
      "execution_count": null,
      "metadata": {
        "colab": {
          "base_uri": "https://localhost:8080/"
        },
        "id": "0HwtlwEir7K_",
        "outputId": "442ed17f-a464-42d7-e809-e9d411041ab8"
      },
      "outputs": [
        {
          "name": "stderr",
          "output_type": "stream",
          "text": [
            "Installing package into ‘/usr/local/lib/R/site-library’\n",
            "(as ‘lib’ is unspecified)\n",
            "\n"
          ]
        }
      ],
      "source": [
        "install.packages('ggrepel')"
      ]
    },
    {
      "cell_type": "code",
      "execution_count": null,
      "metadata": {
        "colab": {
          "base_uri": "https://localhost:8080/"
        },
        "id": "SC2Ic5W5sbxr",
        "outputId": "477d4ae5-f1ee-42f6-e977-13e02a8b178a"
      },
      "outputs": [
        {
          "name": "stderr",
          "output_type": "stream",
          "text": [
            "Installing package into ‘/usr/local/lib/R/site-library’\n",
            "(as ‘lib’ is unspecified)\n",
            "\n"
          ]
        }
      ],
      "source": [
        "install.packages(\"rpart.plot\")"
      ]
    },
    {
      "cell_type": "code",
      "execution_count": null,
      "metadata": {
        "colab": {
          "base_uri": "https://localhost:8080/"
        },
        "id": "nUHEA3viustR",
        "outputId": "782ccf17-8417-46e8-d250-7feec73bc42c"
      },
      "outputs": [
        {
          "name": "stderr",
          "output_type": "stream",
          "text": [
            "Installing package into ‘/usr/local/lib/R/site-library’\n",
            "(as ‘lib’ is unspecified)\n",
            "\n"
          ]
        }
      ],
      "source": [
        "install.packages(\"superml\")"
      ]
    },
    {
      "cell_type": "code",
      "execution_count": null,
      "metadata": {
        "colab": {
          "base_uri": "https://localhost:8080/"
        },
        "id": "vkKhUUtiu33W",
        "outputId": "7dae8e9a-938c-471d-c192-80a19fce72ef"
      },
      "outputs": [
        {
          "name": "stderr",
          "output_type": "stream",
          "text": [
            "Installing package into ‘/usr/local/lib/R/site-library’\n",
            "(as ‘lib’ is unspecified)\n",
            "\n"
          ]
        }
      ],
      "source": [
        "install.packages(\"corrplot\")"
      ]
    },
    {
      "cell_type": "code",
      "execution_count": null,
      "metadata": {
        "colab": {
          "base_uri": "https://localhost:8080/"
        },
        "id": "SHHrIOJ3zl7I",
        "outputId": "b16a2b09-5a64-41a7-88df-6efc4349428c"
      },
      "outputs": [
        {
          "name": "stderr",
          "output_type": "stream",
          "text": [
            "Installing package into ‘/usr/local/lib/R/site-library’\n",
            "(as ‘lib’ is unspecified)\n",
            "\n"
          ]
        }
      ],
      "source": [
        "install.packages(\"reshape2\")"
      ]
    },
    {
      "cell_type": "code",
      "execution_count": null,
      "metadata": {
        "colab": {
          "base_uri": "https://localhost:8080/"
        },
        "id": "M3qwUWJVz39g",
        "outputId": "72b66d96-4cf6-4c73-c9ec-b86975cd7fcd"
      },
      "outputs": [
        {
          "name": "stderr",
          "output_type": "stream",
          "text": [
            "Installing package into ‘/usr/local/lib/R/site-library’\n",
            "(as ‘lib’ is unspecified)\n",
            "\n"
          ]
        }
      ],
      "source": [
        "install.packages(\"ggpubr\")"
      ]
    },
    {
      "cell_type": "code",
      "execution_count": null,
      "metadata": {
        "id": "VNdiGbIHhh9Z"
      },
      "outputs": [],
      "source": [
        "# Load the necessary libraries\n",
        "library(readxl)\n",
        "library(tidyverse)\n",
        "library(dplyr)\n",
        "library(ggplot2)\n",
        "library(ggrepel)\n",
        "library(forcats)\n",
        "library(rpart)\n",
        "library(rpart.plot)\n",
        "library(caret)\n",
        "library(scales)\n",
        "library(superml)\n",
        "library(corrplot)\n",
        "library(reshape2)\n",
        "library(broom)\n",
        "library(ggpubr)"
      ]
    },
    {
      "cell_type": "markdown",
      "metadata": {
        "id": "auRf0M1z1Ajj"
      },
      "source": [
        "# Import Data"
      ]
    },
    {
      "cell_type": "code",
      "execution_count": null,
      "metadata": {
        "id": "xn1_Kbi03Vpe"
      },
      "outputs": [],
      "source": [
        "# Read the dataset\n",
        "data <- read_csv(\"/content/data.csv\", show_col_types = FALSE)"
      ]
    },
    {
      "cell_type": "code",
      "execution_count": null,
      "metadata": {
        "id": "ERyc1fkc1NCF"
      },
      "outputs": [],
      "source": [
        "# Viewing data\n",
        "head(data)"
      ]
    },
    {
      "cell_type": "code",
      "execution_count": null,
      "metadata": {
        "id": "MyTfGI0q1Uof"
      },
      "outputs": [],
      "source": [
        "# Overview of the dataset\n",
        "glimpse(data)"
      ]
    },
    {
      "cell_type": "markdown",
      "metadata": {
        "id": "0QShdp_33ECX"
      },
      "source": [
        "The dataframe is **9994** instances and **21** features. Now check the summary of the dataframe."
      ]
    },
    {
      "cell_type": "code",
      "execution_count": null,
      "metadata": {
        "id": "pl3C6yXN1k5C"
      },
      "outputs": [],
      "source": [
        "summary(data)"
      ]
    },
    {
      "cell_type": "markdown",
      "metadata": {
        "id": "lgf5kUVN3OB8"
      },
      "source": [
        "## Statistics in Sales, Quantity, Discount, and Profit\n",
        "\n",
        "What piqued interest was the statistics in Sales, Quantity, Discount, and Profit columns. From there, we know that:\n",
        "\n",
        "- **Sales** range from USD 0.44 to USD 22,638.48 per transaction; the average sales closed is USD 229.86 while a typical sale closed is USD 54.49.\n",
        "- **Quantity sold** ranges from 1 to 14 items per transaction; typically, each transaction sold around 3 to 4 items.\n",
        "- **Discount** ranges from USD 0 to USD 0.80, meaning this shop only gives minimal discounts to customers.\n",
        "- **Profit** ranges from a loss of USD -6,599.98 to a profit of USD 8,399.98. The average profit per transaction is USD 28.66, but we know most of the profit is lower than that due to the median being lower than the mean.\n",
        "\n",
        "On top of that, we also noticed that R is not able to identify which one is datetime format as they are parsed as characters.\n"
      ]
    },
    {
      "cell_type": "markdown",
      "metadata": {
        "id": "z5fF9nOO2jNy"
      },
      "source": [
        "# Data Pre-processing"
      ]
    },
    {
      "cell_type": "code",
      "execution_count": null,
      "metadata": {
        "id": "nafhQPb0h2om"
      },
      "outputs": [],
      "source": [
        "# Checking for missing values\n",
        "missing_values <- sapply(data, function(x) sum(is.na(x)))\n",
        "print(missing_values)"
      ]
    },
    {
      "cell_type": "markdown",
      "metadata": {
        "id": "Prtpxmlr2119"
      },
      "source": [
        "======> **0 Missing Values**"
      ]
    },
    {
      "cell_type": "code",
      "execution_count": null,
      "metadata": {
        "id": "gcr-mMWmiA64"
      },
      "outputs": [],
      "source": [
        "# Checking for duplicates\n",
        "duplicates <- sum(duplicated(data))\n",
        "print(paste(\"Number of duplicates:\", duplicates))"
      ]
    },
    {
      "cell_type": "markdown",
      "metadata": {
        "id": "4SFY2swp30-X"
      },
      "source": [
        "## Check Value Pattern Consistency"
      ]
    },
    {
      "cell_type": "markdown",
      "metadata": {
        "id": "sDa0t7T733JW"
      },
      "source": [
        "### Numerical Data\n",
        "Numerical data in the dataset includes Sale, Quantity, Discount, and Profit. The pattern for the numerical data is studied. The aim is to determine for any irrelevant pattern in the dataset. To do so, histogram is plotted."
      ]
    },
    {
      "cell_type": "code",
      "execution_count": null,
      "metadata": {
        "id": "zXLJNntD330Y"
      },
      "outputs": [],
      "source": [
        "hist(data$Discount)"
      ]
    },
    {
      "cell_type": "markdown",
      "metadata": {
        "id": "y-R5F7Re-t30"
      },
      "source": [
        "### Graph 1: Histogram of data$Discount\n",
        "\n",
        "**Description:**\n",
        "\n",
        "- **X-Axis (data$Discount):** Represents the discount values.\n",
        "- **Y-Axis (Frequency):** Represents the frequency of each discount value.\n",
        "- **Shape & Distribution:**\n",
        "  - The histogram shows a highly right-skewed distribution.\n",
        "  - The majority of the data points are clustered at the lower end of the discount values.\n",
        "  - There is a very high frequency of discounts at 0.0, followed by a significant drop and then a smaller peak at around 0.2.\n",
        "  - Few values are present for discounts higher than 0.2.\n",
        "\n",
        "**Interpretation:**\n",
        "\n",
        "- Most transactions or items have very low or no discount.\n",
        "- A notable portion has a discount around 0.2, but this is much less frequent than 0.0.\n",
        "- Higher discounts are rare.\n"
      ]
    },
    {
      "cell_type": "code",
      "execution_count": null,
      "metadata": {
        "id": "BZqnM9h74TZw"
      },
      "outputs": [],
      "source": [
        "hist(data$Quantity)"
      ]
    },
    {
      "cell_type": "markdown",
      "metadata": {
        "id": "iY8mxC5Q-1ff"
      },
      "source": [
        "### Graph 2: Histogram of data$Quantity\n",
        "\n",
        "**Description:**\n",
        "\n",
        "- **X-Axis (data$Quantity):** Represents the quantity values.\n",
        "- **Y-Axis (Frequency):** Represents the frequency of each quantity value.\n",
        "- **Shape & Distribution:**\n",
        "  - The histogram shows a right-skewed distribution.\n",
        "  - The highest frequency is at the lower end of the quantity values (around 2).\n",
        "  - As the quantity increases, the frequency decreases.\n",
        "  - Quantities higher than 8 are very rare.\n",
        "\n",
        "**Interpretation:**\n",
        "\n",
        "- Most transactions involve small quantities of items.\n",
        "- Larger quantities are less common, with very few transactions having quantities above 8.\n"
      ]
    },
    {
      "cell_type": "code",
      "execution_count": null,
      "metadata": {
        "id": "8OtidZoz4WSz"
      },
      "outputs": [],
      "source": [
        "hist(data$Profit)"
      ]
    },
    {
      "cell_type": "markdown",
      "metadata": {
        "id": "DzfZsUep-8sr"
      },
      "source": [
        "### Graph 3: Histogram of data$Profit\n",
        "\n",
        "**Description:**\n",
        "\n",
        "- **X-Axis (data$Profit):** Represents the profit values.\n",
        "- **Y-Axis (Frequency):** Represents the frequency of each profit value.\n",
        "- **Shape & Distribution:**\n",
        "  - The histogram shows a distribution centered around zero.\n",
        "  - There is a large spike at zero, indicating many transactions with no profit or loss.\n",
        "  - Some transactions have negative profit (losses), and some have positive profit, but these are less frequent.\n",
        "  - The spread of values ranges widely on both sides of zero.\n",
        "\n",
        "**Interpretation:**\n",
        "\n",
        "- Many transactions break even with no profit or loss.\n",
        "- There are both profitable and loss-making transactions, but these are not as frequent as the break-even transactions.\n",
        "- The distribution is somewhat symmetric around zero, suggesting a mix of small profits and small losses.\n"
      ]
    },
    {
      "cell_type": "code",
      "execution_count": null,
      "metadata": {
        "id": "7Psd-E6_Hf3v"
      },
      "outputs": [],
      "source": [
        "hist(data$Sales)"
      ]
    },
    {
      "cell_type": "markdown",
      "metadata": {
        "id": "5YCF8-BnHfnn"
      },
      "source": [
        "## Interpretation of the Histogram\n",
        "\n",
        "The histogram of `data$Sales` provides several insights into the distribution of the sales data:\n",
        "\n",
        "1. **Right-Skewed Distribution**:\n",
        "   - The histogram is highly right-skewed, indicating that most of the sales values are relatively low, with a long tail extending towards higher values. This suggests that while a few sales transactions have very high values, the majority are much lower.\n",
        "\n",
        "2. **High Frequency of Low Sales Values**:\n",
        "   - The tallest bar is at the lower end of the sales range (0-500), indicating that the majority of sales transactions fall within this range. This implies that low-value sales are very common in the dataset.\n",
        "\n",
        "3. **Diminishing Frequency with Increasing Sales**:\n",
        "   - As the sales values increase, the frequency of transactions decreases sharply. This trend is consistent throughout the histogram, showing a rapid decline in the number of transactions as the sales value rises.\n",
        "\n",
        "4. **Potential Outliers**:\n",
        "   - The long tail suggests that there might be some outlier sales transactions with exceptionally high values. These outliers are infrequent but significantly higher than the bulk of the data.\n",
        "\n",
        "5. **Data Distribution Insight**:\n",
        "   - The histogram gives a clear visual representation of the concentration of sales values, helping identify the central tendency and the spread of the data. Most of the sales are concentrated at the lower end, indicating that high-value sales are rare.\n",
        "\n",
        "6. **Business Implications**:\n",
        "   - For businesses, this distribution might indicate a need to investigate why high-value sales are rare and whether there are opportunities to increase them.\n",
        "   - Understanding the distribution can help in planning and decision-making, such as targeting marketing efforts towards increasing the frequency of higher-value sales or focusing on high-volume low-value transactions to drive overall sales volume.\n",
        "\n",
        "7. **Summary Statistics**:\n",
        "   - While the histogram provides a visual summary, it might be useful to complement it with summary statistics like the mean, median, mode, and standard deviation to quantify the central tendency and dispersion of the sales data.\n",
        "\n",
        "Overall, the histogram indicates a clear pattern in the sales data, with a heavy concentration of low-value transactions and a few high-value outliers, which can guide further analysis and strategic decisions.\n"
      ]
    },
    {
      "cell_type": "code",
      "execution_count": null,
      "metadata": {
        "id": "0xLTmpmziD3C"
      },
      "outputs": [],
      "source": [
        "# Identifying outliers in numerical columns\n",
        "numerical_columns <- c('Sales', 'Quantity', 'Discount', 'Profit')\n",
        "quantiles <- data %>%\n",
        "  select(all_of(numerical_columns)) %>%\n",
        "  summarise(across(everything(), list(lower = ~ quantile(., 0.01), upper = ~ quantile(., 0.99))))\n",
        "quantiles"
      ]
    },
    {
      "cell_type": "code",
      "execution_count": null,
      "metadata": {
        "id": "-kEOeK6kiMsZ"
      },
      "outputs": [],
      "source": [
        "# Removing outliers\n",
        "for (column in numerical_columns) {\n",
        "  lower_bound <- quantiles[[paste(column, \"lower\", sep = \"_\")]]\n",
        "  upper_bound <- quantiles[[paste(column, \"upper\", sep = \"_\")]]\n",
        "  data <- data %>%\n",
        "    filter((!!sym(column) >= lower_bound) & (!!sym(column) <= upper_bound))\n",
        "}"
      ]
    },
    {
      "cell_type": "markdown",
      "metadata": {
        "id": "uY0ELcwc5Hre"
      },
      "source": [
        "### Categorical Data\n",
        "Categorical data in this dataset includes Ship Mode, Segment, Country, City, State, Region, Category, and Sub-Category. The value pattern consistency is determined by counting the frequency distribution for each of the variable. Any weird naming value or redundancy can be determined from this method."
      ]
    },
    {
      "cell_type": "code",
      "execution_count": null,
      "metadata": {
        "id": "D9HrE-mg5HSg"
      },
      "outputs": [],
      "source": [
        "table(data$`Ship Mode`)"
      ]
    },
    {
      "cell_type": "code",
      "execution_count": null,
      "metadata": {
        "id": "vNAO5zEM5ZcI"
      },
      "outputs": [],
      "source": [
        "table(data$Segment)"
      ]
    },
    {
      "cell_type": "code",
      "execution_count": null,
      "metadata": {
        "id": "AQii9AsK5boo"
      },
      "outputs": [],
      "source": [
        "table(data$Country)"
      ]
    },
    {
      "cell_type": "code",
      "execution_count": null,
      "metadata": {
        "id": "fUbIKWgz5eZ4"
      },
      "outputs": [],
      "source": [
        "table(data$City)"
      ]
    },
    {
      "cell_type": "code",
      "execution_count": null,
      "metadata": {
        "id": "_rgIJpSI6EeJ"
      },
      "outputs": [],
      "source": [
        "table(data$State)"
      ]
    },
    {
      "cell_type": "code",
      "execution_count": null,
      "metadata": {
        "id": "Vtcm5kr26I5A"
      },
      "outputs": [],
      "source": [
        "table(data$Region)"
      ]
    },
    {
      "cell_type": "code",
      "execution_count": null,
      "metadata": {
        "id": "3wE-KoMC6JJy"
      },
      "outputs": [],
      "source": [
        "table(data$Category)"
      ]
    },
    {
      "cell_type": "code",
      "execution_count": null,
      "metadata": {
        "id": "FcDiGP7I6HYQ"
      },
      "outputs": [],
      "source": [
        "table(data$`Sub-Category`)"
      ]
    },
    {
      "cell_type": "markdown",
      "metadata": {
        "id": "u8xLrjJE69__"
      },
      "source": [
        "**From the results, We have no redunduncies.**"
      ]
    },
    {
      "cell_type": "markdown",
      "metadata": {
        "id": "x8eWEFsl7NIe"
      },
      "source": [
        "# Exploratory Data Analysis"
      ]
    },
    {
      "cell_type": "markdown",
      "metadata": {
        "id": "1YCcbZHl7Yxi"
      },
      "source": [
        "## Deeper Data Insights\n",
        "\n",
        "In this section, we will drill deeper into the data for more insights. But first, we need to know what problems we want to solve and what questions to ask. Taking the POV of the owner of the Superstore:\n",
        "\n",
        "### Overview\n",
        "\n",
        "1. **What is the monthly sales and profit since inception?**\n",
        "\n",
        "### Overview - Increase Revenue\n",
        "\n",
        "1. **Which product category has the highest sales?**\n",
        "2. **Which customer segment contributes to the highest sales?**\n",
        "3. **Which region, state, and city contribute to the highest sales and profit?**\n"
      ]
    },
    {
      "cell_type": "markdown",
      "metadata": {
        "id": "2p1rCOx58Fqn"
      },
      "source": [
        "## Overview - Increase Revenue"
      ]
    },
    {
      "cell_type": "code",
      "execution_count": null,
      "metadata": {
        "id": "FepbF-Gv8I3O"
      },
      "outputs": [],
      "source": [
        "#Which product category and subcategory with highest sales, with and without discount?\n",
        "df_category_sales <- data %>%\n",
        "  select(Category, Sales) %>%\n",
        "  group_by(Category) %>%\n",
        "  summarise(Sales = sum(Sales))"
      ]
    },
    {
      "cell_type": "code",
      "execution_count": null,
      "metadata": {
        "id": "rnMVx1BU8MuK"
      },
      "outputs": [],
      "source": [
        "df_category_sales <- df_category_sales %>%\n",
        "  mutate(Percentage = percent(df_category_sales$Sales/sum(df_category_sales$Sales)))"
      ]
    },
    {
      "cell_type": "code",
      "execution_count": null,
      "metadata": {
        "id": "QwsEZUt89Q93"
      },
      "outputs": [],
      "source": [
        "df_category_sales"
      ]
    },
    {
      "cell_type": "code",
      "execution_count": null,
      "metadata": {
        "id": "YpDm8EFi8T6I"
      },
      "outputs": [],
      "source": [
        "library(ggplot2)\n",
        "# Bar Chart for Category by Sales Breakdown\n",
        "bar_category_sales <- ggplot(data=df_category_sales, aes(x=Category, y=Sales, fill=Category)) +\n",
        "  coord_cartesian(ylim = c(500000, 650000)) + # Adjusted ylim to fit the given data\n",
        "  ggtitle(\"Category by Sales Breakdown\") +\n",
        "  geom_bar(stat=\"identity\") +\n",
        "  geom_text(aes(label=Percentage, y=Sales + 10000), vjust=0, color=\"black\", size=3.5)+\n",
        "  theme_minimal()\n",
        "bar_category_sales"
      ]
    },
    {
      "cell_type": "markdown",
      "metadata": {
        "id": "faQM9lrb_qI8"
      },
      "source": [
        "Based on the provided data for sales breakdown by category:\n",
        "\n",
        "- **Furniture**:\n",
        "  - Total sales amount to approximately $615,871.9.\n",
        "  - This category contributes to 37.2% of the total sales.\n",
        "\n",
        "- **Office Supplies**:\n",
        "  - Total sales amount to around $531,170.5.\n",
        "  - This category accounts for 32.1% of the total sales.\n",
        "\n",
        "- **Technology**:\n",
        "  - Total sales amount to roughly $507,102.5.\n",
        "  - This category constitutes 30.7% of the total sales.\n",
        "\n",
        "From this data, we can conclude that Furniture contributes the most to the total sales, followed by Office Supplies and then Technology. However, the difference in sales between Furniture and Office Supplies is relatively small compared to the difference between Office Supplies and Technology. Further analysis could explore factors contributing to these sales figures and potential strategies for improving sales performance across all categories.\n"
      ]
    },
    {
      "cell_type": "code",
      "execution_count": null,
      "metadata": {
        "id": "eV87xYnQ_UTd"
      },
      "outputs": [],
      "source": [
        "#Which customer segment that contribute to the highest sales?\n",
        "df_segment_sales <- data %>%\n",
        "  select(Segment, Sales) %>%\n",
        "  group_by(Segment) %>%\n",
        "  summarise(Sales = sum(Sales))\n",
        "\n",
        "df_segment_sales[ , 1] <- apply(df_segment_sales[ , 1], 2,\n",
        "                    function(x) as.character(x))\n",
        "\n",
        "sapply(df_segment_sales, class)"
      ]
    },
    {
      "cell_type": "code",
      "execution_count": null,
      "metadata": {
        "id": "r7MKRTMa_9Cm"
      },
      "outputs": [],
      "source": [
        "#Inputting percentage column into the table\n",
        "df_segment_sales <- df_segment_sales %>%\n",
        "  mutate(Percentage = percent(df_segment_sales$Sales/sum(df_segment_sales$Sales)))\n",
        "df_segment_sales"
      ]
    },
    {
      "cell_type": "code",
      "execution_count": null,
      "metadata": {
        "id": "_XniifqQAOmZ"
      },
      "outputs": [],
      "source": [
        "#Pie Chart for Customer Segment Sales Contribution:\n",
        "ggplot(df_segment_sales, aes(x = \"\", y = Sales, fill = Segment)) +\n",
        "  ggtitle(\"Customer Segment Sales Contribution\") +\n",
        "  geom_col() +\n",
        "   geom_label(aes(label = Percentage ),\n",
        "             position = position_stack(vjust = 0.5),\n",
        "             show.legend = FALSE) +\n",
        "  coord_polar(theta = \"y\")"
      ]
    },
    {
      "cell_type": "markdown",
      "metadata": {
        "id": "eBWot5FVCKrA"
      },
      "source": [
        "Based on the provided data for sales breakdown by segment:\n",
        "\n",
        "- **Consumer**:\n",
        "  - Total sales amount to approximately $837,045.7.\n",
        "  - This segment contributes to 51% of the total sales.\n",
        "\n",
        "- **Corporate**:\n",
        "  - Total sales amount to around $521,550.0.\n",
        "  - This segment accounts for 32% of the total sales.\n",
        "\n",
        "- **Home Office**:\n",
        "  - Total sales amount to roughly $295,549.2.\n",
        "  - This segment constitutes 18% of the total sales.\n",
        "\n",
        "From this data, we can conclude that the Consumer segment contributes the most to the total sales, followed by the Corporate segment and then the Home Office segment. Further analysis could explore factors contributing to these sales figures and potential strategies for improving sales performance across all segments.\n"
      ]
    },
    {
      "cell_type": "code",
      "execution_count": null,
      "metadata": {
        "id": "_tnQGK5rAVJf"
      },
      "outputs": [],
      "source": [
        "#Which region, state and city contribute to the highest sales?\n",
        "df_region_sales <- data %>%\n",
        "  select(Region, Sales) %>%\n",
        "  group_by(Region) %>%\n",
        "  summarise(Sales = sum(Sales))"
      ]
    },
    {
      "cell_type": "code",
      "execution_count": null,
      "metadata": {
        "id": "AzO8hk6iAdXz"
      },
      "outputs": [],
      "source": [
        "#Inputting percentage column into the table\n",
        "df_region_sales <- df_region_sales %>%\n",
        "    mutate(Percentage = percent(df_region_sales$Sales/sum(df_region_sales$Sales)))\n",
        "df_region_sales"
      ]
    },
    {
      "cell_type": "code",
      "execution_count": null,
      "metadata": {
        "id": "7Ixm80gHAjRb"
      },
      "outputs": [],
      "source": [
        "bar_region_sales <- ggplot(data=df_region_sales, aes(x=Region, y=Sales, fill=Region)) +\n",
        "  coord_cartesian(ylim = c(100000, 800000))+\n",
        "  ggtitle(\"Region by Sales Breakdown\") +\n",
        "  geom_bar(stat=\"identity\")+\n",
        "  geom_text(aes(label=Percentage), vjust=1.6, color=\"white\", size=3.5)+\n",
        "  theme_minimal()\n",
        "bar_region_sales"
      ]
    },
    {
      "cell_type": "markdown",
      "metadata": {
        "id": "jlgNt2--CYu4"
      },
      "source": [
        "Based on the provided data for sales breakdown by region:\n",
        "\n",
        "- **Central**:\n",
        "  - Total sales amount to approximately $367,820.3.\n",
        "  - This region contributes to 22.2% of the total sales.\n",
        "\n",
        "- **East**:\n",
        "  - Total sales amount to around $458,096.9.\n",
        "  - This region accounts for 27.7% of the total sales.\n",
        "\n",
        "- **South**:\n",
        "  - Total sales amount to roughly $264,458.8.\n",
        "  - This region constitutes 16.0% of the total sales.\n",
        "\n",
        "- **West**:\n",
        "  - Total sales amount to approximately $563,768.8.\n",
        "  - This region contributes to 34.1% of the total sales.\n",
        "\n",
        "From this data, we can conclude that the West region contributes the most to the total sales, followed by the East region, Central region, and then the South region. Further analysis could explore factors contributing to these sales figures and potential strategies for improving sales performance across all regions.\n"
      ]
    },
    {
      "cell_type": "code",
      "execution_count": null,
      "metadata": {
        "id": "_mw4x3tfBAZA"
      },
      "outputs": [],
      "source": [
        "df_state_sales <- data %>%\n",
        "  select(State, Sales) %>%\n",
        "  group_by(State) %>%\n",
        "  summarise(Sales = sum(Sales))\n",
        "\n",
        "df_state_sales <- df_state_sales[order(-df_state_sales$Sales),]"
      ]
    },
    {
      "cell_type": "code",
      "execution_count": null,
      "metadata": {
        "id": "KXnbn2jWBD0z"
      },
      "outputs": [],
      "source": [
        "df_state_sales <- df_state_sales %>%\n",
        "  mutate(Percentage = percent(df_state_sales$Sales/sum(df_state_sales$Sales),accuracy = 0.01))\n",
        "df_state_sales"
      ]
    },
    {
      "cell_type": "code",
      "execution_count": null,
      "metadata": {
        "id": "ifXtCHq3BFwC"
      },
      "outputs": [],
      "source": [
        "bar_state_sales <- ggplot(data=df_state_sales[1:10,], aes(x=State, y=Sales, fill=State)) +\n",
        "  #coord_cartesian(ylim = c(300000, 800000))+\n",
        "  geom_bar(stat=\"identity\")+\n",
        "  ggtitle(\"Top 10 Regions by Sales Breakdown\") +\n",
        "  geom_text(aes(label=Percentage), hjust=1.3, vjust=0.4, color=\"white\", size=3)+\n",
        "  theme_minimal()+\n",
        "  coord_flip()\n",
        "#bar_region_sales + scale_fill_manual(values=c(\"#999999\", \"#E69F00\", \"#56B4E9\",\"#f5ad42\"))\n",
        "bar_state_sales"
      ]
    },
    {
      "cell_type": "markdown",
      "metadata": {
        "id": "dsfKJ2SuCkHY"
      },
      "source": [
        "Based on the provided data for sales breakdown by state:\n",
        "\n",
        "- **California**:\n",
        "  - Total sales amount to approximately $354,867.814.\n",
        "  - This state contributes to 21.45% of the total sales.\n",
        "\n",
        "- **New York**:\n",
        "  - Total sales amount to around $196,394.612.\n",
        "  - This state accounts for 11.87% of the total sales.\n",
        "\n",
        "- **Texas**:\n",
        "  - Total sales amount to roughly $136,120.876.\n",
        "  - This state constitutes 8.23% of the total sales.\n",
        "\n",
        "- **Washington**:\n",
        "  - Total sales amount to approximately $98,153.442.\n",
        "  - This state contributes to 5.93% of the total sales.\n",
        "\n",
        "(And so on for each state…)\n",
        "\n",
        "From this data, we can conclude that California has the highest sales contribution, followed by New York, Texas, and Washington. Further analysis could explore factors contributing to these sales figures and potential strategies for improving sales performance in each state.\n"
      ]
    },
    {
      "cell_type": "code",
      "execution_count": null,
      "metadata": {
        "id": "vda_9HNBBJz-"
      },
      "outputs": [],
      "source": [
        "df_city_sales <- data %>%\n",
        "  select(City, Sales) %>%\n",
        "  group_by(City) %>%\n",
        "  summarise(Sales = sum(Sales))\n",
        "\n",
        "df_city_sales <- df_city_sales[order(-df_city_sales$Sales),]"
      ]
    },
    {
      "cell_type": "code",
      "execution_count": null,
      "metadata": {
        "id": "fSmT4TDZBKWM"
      },
      "outputs": [],
      "source": [
        "df_city_sales <- df_city_sales %>%\n",
        "  mutate(Percentage = percent(df_city_sales$Sales/sum(df_city_sales$Sales),accuracy = 0.01))\n",
        "df_city_sales"
      ]
    },
    {
      "cell_type": "code",
      "execution_count": null,
      "metadata": {
        "id": "UtcXH660BNcS"
      },
      "outputs": [],
      "source": [
        "bar_city_sales <- ggplot(data=df_city_sales[1:10,], aes(x=City, y=Sales, fill=City)) +\n",
        "  geom_bar(stat=\"identity\")+\n",
        "  ggtitle(\"Sales by City Breakdown\") +\n",
        "  geom_text(aes(label=Percentage), hjust=1.3, vjust=0.4, color=\"white\", size=3)+\n",
        "  theme_minimal()+\n",
        "  coord_flip()\n",
        "\n",
        "bar_city_sales"
      ]
    },
    {
      "cell_type": "markdown",
      "metadata": {
        "id": "ewMr3MkzCzG0"
      },
      "source": [
        "Based on the provided data for sales breakdown by city:\n",
        "\n",
        "- **New York City**:\n",
        "  - Total sales amount to approximately $158,712.894.\n",
        "  - This city contributes to 9.59% of the total sales.\n",
        "\n",
        "- **Los Angeles**:\n",
        "  - Total sales amount to around $135,151.137.\n",
        "  - This city accounts for 8.17% of the total sales.\n",
        "\n",
        "- **Seattle**:\n",
        "  - Total sales amount to roughly $83,611.864.\n",
        "  - This city constitutes 5.05% of the total sales.\n",
        "\n",
        "- **San Francisco**:\n",
        "  - Total sales amount to approximately $82,763.005.\n",
        "  - This city contributes to 5.00% of the total sales.\n",
        "\n",
        "(And so on for each city…)\n",
        "\n",
        "From this data, we can conclude that New York City has the highest sales contribution, followed by Los Angeles, Seattle, and San Francisco. Further analysis could explore factors contributing to these sales figures and potential strategies for improving sales performance in each city.\n"
      ]
    },
    {
      "cell_type": "code",
      "execution_count": null,
      "metadata": {
        "colab": {
          "background_save": true
        },
        "id": "ybtZYm4_ihzI",
        "outputId": "5a3b75f3-1d66-4138-dc2b-d79c68cdf08c"
      },
      "outputs": [
        {
          "name": "stdout",
          "output_type": "stream",
          "text": [
            "     Min.   1st Qu.    Median      Mean   3rd Qu.      Max. \n",
            "   2.2860   17.2800   51.7500  172.4145  193.8450 2430.0800 \n"
          ]
        }
      ],
      "source": [
        "# Distribution of Sales\n",
        "sales_distribution <- data %>%\n",
        "  summarise(Sales = list(summary(Sales))) %>%\n",
        "  pull(Sales) %>%\n",
        "  unlist()\n",
        "print(sales_distribution)"
      ]
    },
    {
      "cell_type": "code",
      "execution_count": null,
      "metadata": {
        "id": "JTRAbHVBi5lj"
      },
      "outputs": [],
      "source": [
        "# Distribution of Profit\n",
        "profit_distribution <- data %>%\n",
        "  summarise(Profit = list(summary(Profit))) %>%\n",
        "  pull(Profit) %>%\n",
        "  unlist()\n",
        "print(profit_distribution)"
      ]
    },
    {
      "cell_type": "code",
      "execution_count": null,
      "metadata": {
        "id": "QA79f-bd0I84"
      },
      "outputs": [],
      "source": [
        "# Distribution plots for Sales and Profit\n",
        "ggplot(data, aes(x = Sales)) +\n",
        "  geom_histogram(aes(y = ..density..), bins = 30, fill = \"blue\", alpha = 0.7) +\n",
        "  geom_density(color = \"red\", size = 1) +\n",
        "  ggtitle('Distribution des Ventes')"
      ]
    },
    {
      "cell_type": "markdown",
      "metadata": {
        "id": "0dINViXx3VDg"
      },
      "source": [
        "## Distribution des Ventes (Distribution of Sales)\n",
        "\n",
        "### Histogram and Density Plot:\n",
        "\n",
        "- **Histogram**: The histogram is represented by blue bars.\n",
        "- **Density Plot**: A red line overlays the histogram, representing the kernel density estimate.\n",
        "\n",
        "### Axis Labels:\n",
        "\n",
        "- **X-axis**: Labeled as \"Sales\" with values ranging approximately from 0 to 2500.\n",
        "- **Y-axis**: Labeled as \"density,\" indicating the frequency of sales values.\n",
        "\n",
        "### Distribution Shape:\n",
        "\n",
        "- The distribution of sales is heavily right-skewed, with a high frequency of lower sales values.\n",
        "- The density sharply peaks at low sales values and rapidly decreases, indicating that higher sales are less common.\n",
        "- The tail extends far to the right, showing a small number of instances with very high sales.\n",
        "\n"
      ]
    },
    {
      "cell_type": "code",
      "execution_count": null,
      "metadata": {
        "id": "VGPR8Hb40Lj6"
      },
      "outputs": [],
      "source": [
        "ggplot(data, aes(x = Profit)) +\n",
        "  geom_histogram(aes(y = ..density..), bins = 30, fill = \"green\", alpha = 0.7) +\n",
        "  geom_density(color = \"red\", size = 1) +\n",
        "  ggtitle('Distribution des Bénéfices')"
      ]
    },
    {
      "cell_type": "markdown",
      "metadata": {
        "id": "qYcaLFyg3Hij"
      },
      "source": [
        "## Distribution des Bénéfices (Distribution of Profits)\n",
        "\n",
        "### Histogram and Density Plot:\n",
        "\n",
        "- **Histogram**: The histogram is represented by green bars.\n",
        "- **Density Plot**: A red line overlays the histogram, representing the kernel density estimate.\n",
        "\n",
        "### Axis Labels:\n",
        "\n",
        "- **X-axis**: Labeled as \"Profit\" with values ranging approximately from -200 to 600.\n",
        "- **Y-axis**: Labeled as \"density,\" indicating the frequency of profit values.\n",
        "\n",
        "### Distribution Shape:\n",
        "\n",
        "- The distribution of profits is sharply peaked around 0, suggesting that most profits are close to zero.\n",
        "- There are fewer instances of higher profits, and the density tapers off as profits increase.\n",
        "- There is a slight skew with a longer tail towards the positive side, indicating occasional higher profits, while negative profits (losses) are less frequent.\n"
      ]
    },
    {
      "cell_type": "markdown",
      "metadata": {
        "id": "KQSbefTc3Y5a"
      },
      "source": [
        "**Summary**:\n",
        "- The profit distribution shows a sharp peak near zero with a slight positive skew, suggesting most transactions result in small profits with occasional higher profits.\n",
        "- The sales distribution is heavily skewed to the right, indicating that most sales transactions are small, with fewer instances of significantly higher sales."
      ]
    },
    {
      "cell_type": "code",
      "execution_count": null,
      "metadata": {
        "id": "hEIHHqh0e62U"
      },
      "outputs": [],
      "source": [
        "# Create a boxplot\n",
        "boxplot(data$Sales,\n",
        "        main = \"Boxplot of Sales\",\n",
        "        ylab = \"Sales\",\n",
        "        xlab = \"Data\")"
      ]
    },
    {
      "cell_type": "markdown",
      "metadata": {
        "id": "tNHD5xWK9GhT"
      },
      "source": [
        "### Description of the Boxplot of Sales\n",
        "\n",
        "The provided image is a boxplot that visualizes the distribution of sales data. Boxplots are useful for summarizing the central tendency, dispersion, and skewness of the data as well as for identifying outliers.\n",
        "\n",
        "#### Components of the Boxplot:\n",
        "\n",
        "1. **Title**:\n",
        "   - The title of the plot is \"Boxplot of Sales\".\n",
        "\n",
        "2. **Y-Axis (Sales)**:\n",
        "   - The y-axis represents the sales values, ranging from 0 to approximately 2500.\n",
        "\n",
        "3. **Box (Interquartile Range - IQR)**:\n",
        "   - The box represents the interquartile range (IQR), which contains the middle 50% of the data.\n",
        "   - The bottom of the box indicates the first quartile (Q1), and the top of the box indicates the third quartile (Q3).\n",
        "   - The line inside the box represents the median (second quartile, Q2) of the sales data.\n",
        "\n",
        "4. **Whiskers**:\n",
        "   - The whiskers extend from the box to the smallest and largest values within 1.5 times the IQR from the first and third quartiles, respectively.\n",
        "\n",
        "5. **Outliers**:\n",
        "   - The points outside the whiskers are considered outliers.\n",
        "   - There are many outliers in the sales data, indicated by the dots above the upper whisker, extending up to approximately 2500.\n",
        "\n",
        "#### Interpretation:\n",
        "\n",
        "- **Median**:\n",
        "  - The median sales value is located inside the box, giving a measure of central tendency.\n",
        "\n",
        "- **IQR**:\n",
        "  - The IQR (height of the box) shows the spread of the middle 50% of the sales data. It indicates the variability of the central portion of the data.\n",
        "\n",
        "- **Whiskers**:\n",
        "  - The whiskers suggest that most of the sales data lies between the lower whisker (just below 0) and the upper whisker (around 500).\n",
        "\n",
        "- **Outliers**:\n",
        "  - There are numerous outliers in the sales data, extending significantly above the upper whisker. These indicate that there are many unusually high sales values compared to the rest of the data.\n",
        "\n",
        "- **Skewness**:\n",
        "  - The presence of many outliers and the longer upper whisker suggest that the sales data is positively skewed. Most of the sales values are concentrated at the lower end, with fewer, but significant, higher values.\n",
        "\n",
        "### Summary:\n",
        "\n",
        "The boxplot of sales reveals that while most of the sales data is clustered around lower values, there are many high-value outliers, indicating significant variability and positive skewness in the sales distribution. This visualization helps in identifying the central tendency and spread of the data, along with the presence of extreme values.\n"
      ]
    },
    {
      "cell_type": "code",
      "execution_count": null,
      "metadata": {
        "id": "cNPSF0o3EFLD"
      },
      "outputs": [],
      "source": [
        "# Create a boxplot\n",
        "boxplot(data$Profit,\n",
        "        main = \"Boxplot of Profit\",\n",
        "        ylab = \"Profit\",\n",
        "        xlab = \"Data\")"
      ]
    },
    {
      "cell_type": "markdown",
      "metadata": {
        "id": "S3Xex1gEFWgh"
      },
      "source": [
        "# Boxplot of Profit\n",
        "\n",
        "The image shows a boxplot titled \"Boxplot of Profit.\" Here's a description of the various components of the boxplot:\n",
        "\n",
        "- **Title**: \"Boxplot of Profit\"\n",
        "- **Y-axis label**: \"Profit\" (it appears clearly on the y-axis)\n",
        "- **X-axis label**: \"Data\" (though it is less significant in this context since we are focusing on profit values)\n",
        "\n",
        "The boxplot consists of the following elements:\n",
        "\n",
        "1. **Median**: Represented by the thick black line in the middle of the box. This line is around 0, indicating that the median profit is approximately $0.\n",
        "\n",
        "2. **Interquartile Range (IQR)**: The box itself, which contains the middle 50% of the data.\n",
        "   - The lower edge of the box is around -25, representing the first quartile (Q1).\n",
        "   - The upper edge of the box is around 25, representing the third quartile (Q3).\n",
        "\n",
        "3. **Whiskers**: Lines extending from the top and bottom of the box.\n",
        "   - The bottom whisker extends down to approximately -150.\n",
        "   - The top whisker extends up to approximately 150. This shows the range of the data within 1.5 times the IQR from the quartiles.\n",
        "\n",
        "4. **Outliers**: Data points outside the whiskers, shown as individual circles above and below the whiskers.\n",
        "   - There are numerous outliers both above and below the whiskers, ranging from about -200 to 600.\n",
        "\n",
        "This boxplot visually summarizes the distribution of profit values, indicating a median profit of around $0, with significant variability and many outliers on both the lower and upper ends.\n"
      ]
    },
    {
      "cell_type": "code",
      "execution_count": null,
      "metadata": {
        "colab": {
          "base_uri": "https://localhost:8080/"
        },
        "id": "Tal_zIEkEJ5w",
        "outputId": "f87af70c-236f-4c69-eef5-e5efdfe86334"
      },
      "outputs": [
        {
          "data": {
            "image/png": "[encoded data removed]",
            "text/plain": [
              "Plot with title “Boxplot of Discount”"
            ]
          },
          "metadata": {
            "image/png": {
              "height": 420,
              "width": 420
            }
          },
          "output_type": "display_data"
        }
      ],
      "source": [
        "# Create a boxplot\n",
        "boxplot(data$Discount,\n",
        "        main = \"Boxplot of Discount\",\n",
        "        ylab = \"Discount\",\n",
        "        xlab = \"Data\")"
      ]
    },
    {
      "cell_type": "markdown",
      "metadata": {
        "id": "5Drl_0VfFi-9"
      },
      "source": [
        "# Boxplot of Discount\n",
        "\n",
        "The image shows a boxplot titled \"Boxplot of Discount.\" Here's a description of the various components of the boxplot:\n",
        "\n",
        "- **Title**: \"Boxplot of Discount\"\n",
        "- **Y-axis label**: \"Discount\" (it appears clearly on the y-axis)\n",
        "- **X-axis label**: \"Data\" (though it is less significant in this context since we are focusing on discount values)\n",
        "\n",
        "The boxplot consists of the following elements:\n",
        "\n",
        "1. **Median**: Represented by the thick black line in the middle of the box. This line is at approximately 0.20, indicating that the median discount is around $0.20.\n",
        "\n",
        "2. **Interquartile Range (IQR)**: The box itself, which contains the middle 50% of the data.\n",
        "   - The lower edge of the box is at around 0.10, representing the first quartile (Q1).\n",
        "   - The upper edge of the box is at around 0.25, representing the third quartile (Q3).\n",
        "\n",
        "3. **Whiskers**: Lines extending from the top and bottom of the box.\n",
        "   - The bottom whisker extends down to approximately 0.00.\n",
        "   - The top whisker extends up to around 0.40. This shows the range of the data within 1.5 times the IQR from the quartiles.\n",
        "\n",
        "4. **Outliers**: Data points outside the whiskers, shown as individual circles above the top whisker.\n",
        "   - There are three outliers above the top whisker, at approximately 0.55, 0.65, and 0.75.\n",
        "\n",
        "This boxplot visually summarizes the distribution of discount values, indicating a median discount of around $0.20, with a few significant outliers on the higher end.\n"
      ]
    },
    {
      "cell_type": "code",
      "execution_count": null,
      "metadata": {
        "colab": {
          "base_uri": "https://localhost:8080/",
          "height": 663
        },
        "id": "ef3To_7z0h1-",
        "outputId": "c153446b-a764-44a2-cab7-d0115a941f6c"
      },
      "outputs": [
        {
          "name": "stdout",
          "output_type": "stream",
          "text": [
            "\u001b[90m# A tibble: 10 × 2\u001b[39m\n",
            "       k inertia\n",
            "   \u001b[3m\u001b[90m<int>\u001b[39m\u001b[23m   \u001b[3m\u001b[90m<dbl>\u001b[39m\u001b[23m\n",
            "\u001b[90m 1\u001b[39m     1  \u001b[4m3\u001b[24m\u001b[4m8\u001b[24m372.\n",
            "\u001b[90m 2\u001b[39m     2  \u001b[4m2\u001b[24m\u001b[4m7\u001b[24m789.\n",
            "\u001b[90m 3\u001b[39m     3  \u001b[4m2\u001b[24m\u001b[4m0\u001b[24m457.\n",
            "\u001b[90m 4\u001b[39m     4  \u001b[4m1\u001b[24m\u001b[4m5\u001b[24m160.\n",
            "\u001b[90m 5\u001b[39m     5  \u001b[4m1\u001b[24m\u001b[4m3\u001b[24m171.\n",
            "\u001b[90m 6\u001b[39m     6  \u001b[4m1\u001b[24m\u001b[4m1\u001b[24m527.\n",
            "\u001b[90m 7\u001b[39m     7   \u001b[4m9\u001b[24m944.\n",
            "\u001b[90m 8\u001b[39m     8   \u001b[4m9\u001b[24m064.\n",
            "\u001b[90m 9\u001b[39m     9   \u001b[4m8\u001b[24m461.\n",
            "\u001b[90m10\u001b[39m    10   \u001b[4m7\u001b[24m863.\n"
          ]
        },
        {
          "data": {
            "image/png": "[encoded data removed]",
            "text/plain": [
              "plot without title"
            ]
          },
          "metadata": {
            "image/png": {
              "height": 420,
              "width": 420
            }
          },
          "output_type": "display_data"
        }
      ],
      "source": [
        "# Standardizing the data\n",
        "features <- c('Sales', 'Quantity', 'Discount', 'Profit')\n",
        "X <- data %>% select(all_of(features))\n",
        "X_scaled <- scale(X)\n",
        "\n",
        "# Using the Elbow Method to determine the number of clusters\n",
        "set.seed(0)\n",
        "inertia <- map_dbl(1:10, function(k) {\n",
        "  kmeans(X_scaled, centers = k, nstart = 25)$tot.withinss\n",
        "})\n",
        "\n",
        "# Plotting the Elbow Method\n",
        "elbow_plot <- tibble(k = 1:10, inertia = inertia)\n",
        "\n",
        "ggplot(elbow_plot, aes(x = k, y = inertia)) +\n",
        "  geom_point() +\n",
        "  geom_line() +\n",
        "  ggtitle('Elbow Method for Optimal Number of Clusters') +\n",
        "  xlab('Number of clusters') +\n",
        "  ylab('Inertia')\n",
        "\n",
        "# Display the plot\n",
        "print(elbow_plot)"
      ]
    },
    {
      "cell_type": "markdown",
      "metadata": {
        "id": "s1rTzcKqzu3D"
      },
      "source": [
        "### Description of the Elbow Method Using Provided Inertia Values\n",
        "\n",
        "The elbow method is a technique used to determine the optimal number of clusters (k) in a dataset by plotting the explained variance (inertia) against the number of clusters. The \"elbow\" point on this plot indicates the ideal number of clusters, where adding more clusters does not significantly improve the model.\n",
        "\n",
        "#### Inertia Values Provided:\n",
        "| k   | Inertia |\n",
        "|-----|---------|\n",
        "| 1   | 38372   |\n",
        "| 2   | 27789   |\n",
        "| 3   | 20457   |\n",
        "| 4   | 15160   |\n",
        "| 5   | 13171   |\n",
        "| 6   | 11527   |\n",
        "| 7   | 9944    |\n",
        "| 8   | 9064    |\n",
        "| 9   | 8461    |\n",
        "| 10  | 7863    |\n",
        "\n",
        "#### Steps to Describe the Elbow Method:\n",
        "\n",
        "1. **Plot the Inertia Values**:\n",
        "   - Plot the number of clusters \\( k \\) on the x-axis.\n",
        "   - Plot the corresponding inertia values on the y-axis.\n",
        "\n",
        "2. **Identify the Elbow Point**:\n",
        "   - Look for a point on the plot where the rate of decrease sharply changes (the \"elbow\").\n",
        "   - Before the elbow, inertia decreases rapidly as clusters are added.\n",
        "   - After the elbow, the rate of decrease slows down, indicating diminishing returns in variance explained by adding more clusters.\n",
        "\n",
        "3. **Optimal Number of Clusters**:\n",
        "   - The optimal \\( k \\) is typically at the elbow point. It balances between having enough clusters to explain the data well without having too many clusters, which could lead to overfitting.\n",
        "\n",
        "#### Analysis of the Provided Data:\n",
        "\n",
        "By observing the given inertia values, we can describe the elbow method as follows:\n",
        "\n",
        "- **Rapid Decrease Phase**:\n",
        "  - From \\( k = 1 \\) to \\( k = 2 \\), inertia drops significantly from 38372 to 27789.\n",
        "  - From \\( k = 2 \\) to \\( k = 3 \\), inertia drops further to 20457.\n",
        "  - From \\( k = 3 \\) to \\( k = 4 \\), inertia decreases to 15160.\n",
        "\n",
        "- **Slowing Decrease Phase**:\n",
        "  - From \\( k = 4 \\) to \\( k = 5 \\), inertia decreases to 13171.\n",
        "  - From \\( k = 5 \\) to \\( k = 6 \\), inertia drops to 11527.\n",
        "  - From \\( k = 6 \\) to \\( k = 7 \\), inertia decreases to 9944.\n",
        "\n",
        "- **Marginal Gains Phase**:\n",
        "  - From \\( k = 7 \\) to \\( k = 8 \\), inertia drops to 9064.\n",
        "  - From \\( k = 8 \\) to \\( k = 9 \\), inertia decreases to 8461.\n",
        "  - From \\( k = 9 \\) to \\( k = 10 \\), inertia drops to 7863.\n",
        "\n",
        "Based on this data, the \"elbow\" point appears to be around \\( k = 4 \\) or \\( k = 5 \\). After this point, the rate of decrease in inertia slows down significantly, indicating that adding more clusters beyond \\( k = 4 \\) or \\( k = 5 \\) yields diminishing returns.\n",
        "\n",
        "#### Conclusion:\n",
        "Using the elbow method with the provided inertia values, the optimal number of clusters is likely between 4 and 5. This is where the plot would show a noticeable bend (elbow), balancing the explained variance and the number of clusters used.\n"
      ]
    },
    {
      "cell_type": "code",
      "execution_count": null,
      "metadata": {
        "colab": {
          "base_uri": "https://localhost:8080/"
        },
        "id": "hNM30quP03ss",
        "outputId": "9466e88b-f5c8-4f1d-d7a3-934282dd158b"
      },
      "outputs": [
        {
          "name": "stdout",
          "output_type": "stream",
          "text": [
            "\u001b[90m# A tibble: 4 × 5\u001b[39m\n",
            "  Cluster  Sales Quantity Discount Profit\n",
            "    \u001b[3m\u001b[90m<int>\u001b[39m\u001b[23m  \u001b[3m\u001b[90m<dbl>\u001b[39m\u001b[23m    \u001b[3m\u001b[90m<dbl>\u001b[39m\u001b[23m    \u001b[3m\u001b[90m<dbl>\u001b[39m\u001b[23m  \u001b[3m\u001b[90m<dbl>\u001b[39m\u001b[23m\n",
            "\u001b[90m1\u001b[39m       1  133.      3.83   0.629   -\u001b[31m51\u001b[39m\u001b[31m.\u001b[39m\u001b[31m8\u001b[39m\n",
            "\u001b[90m2\u001b[39m       2   94.9     2.52   0.095\u001b[4m7\u001b[24m   14.8\n",
            "\u001b[90m3\u001b[39m       3 \u001b[4m1\u001b[24m005.      4.91   0.070\u001b[4m7\u001b[24m  217. \n",
            "\u001b[90m4\u001b[39m       4  166.      6.26   0.093\u001b[4m4\u001b[24m   26.6\n"
          ]
        }
      ],
      "source": [
        "kmeans_result <- kmeans(X_scaled, centers = 4, nstart = 25)\n",
        "data$Cluster <- kmeans_result$cluster\n",
        "\n",
        "# Analyzing the clusters\n",
        "cluster_analysis <- data %>%\n",
        "  group_by(Cluster) %>%\n",
        "  summarise(across(all_of(features), mean)) %>%\n",
        "  ungroup()\n",
        "\n",
        "# Display the cluster analysis\n",
        "print(cluster_analysis)"
      ]
    },
    {
      "cell_type": "code",
      "execution_count": null,
      "metadata": {
        "colab": {
          "base_uri": "https://localhost:8080/",
          "height": 1000
        },
        "id": "zmYL8rGF2Rgb",
        "outputId": "9a86e205-3b99-4302-83dd-0123d04d51fe"
      },
      "outputs": [
        {
          "data": {
            "image/png": "[encoded data removed]",
            "text/plain": [
              "plot without title"
            ]
          },
          "metadata": {
            "image/png": {
              "height": 420,
              "width": 420
            }
          },
          "output_type": "display_data"
        },
        {
          "data": {
            "image/png": "[encoded data removed]",
            "text/plain": [
              "plot without title"
            ]
          },
          "metadata": {
            "image/png": {
              "height": 420,
              "width": 420
            }
          },
          "output_type": "display_data"
        },
        {
          "data": {
            "image/png": "[encoded data removed]",
            "text/plain": [
              "plot without title"
            ]
          },
          "metadata": {
            "image/png": {
              "height": 420,
              "width": 420
            }
          },
          "output_type": "display_data"
        },
        {
          "data": {
            "image/png": "[encoded data removed]",
            "text/plain": [
              "plot without title"
            ]
          },
          "metadata": {
            "image/png": {
              "height": 420,
              "width": 420
            }
          },
          "output_type": "display_data"
        }
      ],
      "source": [
        "# Plot Sales by Cluster\n",
        "ggplot(cluster_analysis, aes(x = factor(Cluster), y = Sales)) +\n",
        "  geom_bar(stat = \"identity\", fill = \"skyblue\") +\n",
        "  ggtitle(\"Average Sales by Cluster\") +\n",
        "  xlab(\"Cluster\") +\n",
        "  ylab(\"Average Sales\") +\n",
        "  theme_minimal()\n",
        "\n",
        "# Plot Profit by Cluster\n",
        "ggplot(cluster_analysis, aes(x = factor(Cluster), y = Profit)) +\n",
        "  geom_bar(stat = \"identity\", fill = \"skyblue\") +\n",
        "  ggtitle(\"Average Profit by Cluster\") +\n",
        "  xlab(\"Cluster\") +\n",
        "  ylab(\"Average Profit\") +\n",
        "  theme_minimal()\n",
        "\n",
        "# Plot Quantity by Cluster\n",
        "ggplot(cluster_analysis, aes(x = factor(Cluster), y = Quantity)) +\n",
        "  geom_bar(stat = \"identity\", fill = \"skyblue\") +\n",
        "  ggtitle(\"Average Quantity by Cluster\") +\n",
        "  xlab(\"Cluster\") +\n",
        "  ylab(\"Average Quantity\") +\n",
        "  theme_minimal()\n",
        "\n",
        "# Plot Discount by Cluster\n",
        "ggplot(cluster_analysis, aes(x = factor(Cluster), y = Discount)) +\n",
        "  geom_bar(stat = \"identity\", fill = \"skyblue\") +\n",
        "  ggtitle(\"Average Discount by Cluster\") +\n",
        "  xlab(\"Cluster\") +\n",
        "  ylab(\"Average Discount\") +\n",
        "  theme_minimal()"
      ]
    },
    {
      "cell_type": "markdown",
      "metadata": {
        "id": "WFwDsAYl2VeA"
      },
      "source": [
        "### **Interpretation**\n",
        "\n",
        "### Cluster 1\n",
        "\n",
        "- **Sales**: 1005\n",
        "- **Quantity**: 4.91\n",
        "- **Discount**: 0.0707\n",
        "- **Profit**: 217\n",
        "- **Description**: This cluster has the highest average sales and profit. The average quantity is moderate, and the discount is relatively low. This suggests that customers in this cluster are high-value customers, generating significant sales and profit with moderate purchase quantities and low discounts.\n",
        "\n",
        "### Cluster 2\n",
        "\n",
        "- **Sales**: 166\n",
        "- **Quantity**: 6.26\n",
        "- **Discount**: 0.0934\n",
        "- **Profit**: 26.6\n",
        "- **Description**: This cluster has lower sales compared to Cluster 1 but has the highest average quantity. The discount is slightly higher, and the profit is positive but modest. This suggests that these customers buy in larger quantities but contribute less to overall sales and profit, possibly due to higher discounts or lower-margin products.\n",
        "\n",
        "### Cluster 3\n",
        "\n",
        "- **Sales**: 94.9\n",
        "- **Quantity**: 2.52\n",
        "- **Discount**: 0.0957\n",
        "- **Profit**: 14.8\n",
        "- **Description**: This cluster has the lowest average sales and quantity. The discount is similar to Cluster 2, and the profit is the lowest among the positive-profit clusters. These customers might be infrequent or low-value buyers who do not significantly impact overall sales or profit.\n",
        "\n",
        "### Cluster 4\n",
        "\n",
        "- **Sales**: 133\n",
        "- **Quantity**: 3.83\n",
        "- **Discount**: 0.629\n",
        "- **Profit**: -51.8\n",
        "- **Description**: This cluster is unique as it has a negative profit despite moderate sales and quantity. The discount is significantly higher than in other clusters, which could explain the negative profit. These customers might be highly price-sensitive, taking advantage of large discounts, leading to a loss for the company.\n",
        "\n",
        "## Actionable Insights\n",
        "\n",
        "- **Cluster 1 (High-Value Customers)**: Focus marketing efforts on retaining and upselling to these customers. They are already contributing significantly to sales and profit.\n",
        "- **Cluster 2 (Bulk Buyers)**: Explore ways to increase profit margins for these customers, possibly by offering value-added services or reducing discount levels.\n",
        "- **Cluster 3 (Low-Value Buyers)**: Identify ways to increase purchase frequency or basket size for these customers to improve their value.\n",
        "- **Cluster 4 (Loss-Making Customers)**: Review the discount strategy for this segment. Consider reducing discounts or finding alternative strategies to convert these customers into profitable ones.\n"
      ]
    },
    {
      "cell_type": "code",
      "execution_count": null,
      "metadata": {
        "colab": {
          "base_uri": "https://localhost:8080/"
        },
        "id": "3DhZSMsp-32a",
        "outputId": "dbc76a13-f00d-42c1-f354-751c5663ea08"
      },
      "outputs": [
        {
          "name": "stderr",
          "output_type": "stream",
          "text": [
            "Installing package into ‘/usr/local/lib/R/site-library’\n",
            "(as ‘lib’ is unspecified)\n",
            "\n",
            "Loading required package: carData\n",
            "\n",
            "\n",
            "Attaching package: ‘car’\n",
            "\n",
            "\n",
            "The following object is masked from ‘package:dplyr’:\n",
            "\n",
            "    recode\n",
            "\n",
            "\n",
            "The following object is masked from ‘package:purrr’:\n",
            "\n",
            "    some\n",
            "\n",
            "\n"
          ]
        }
      ],
      "source": [
        "install.packages(\"car\")\n",
        "library(car)"
      ]
    },
    {
      "cell_type": "code",
      "execution_count": null,
      "metadata": {
        "colab": {
          "base_uri": "https://localhost:8080/",
          "height": 555
        },
        "id": "99twFwVC-5dK",
        "outputId": "01fbfd42-d1da-4327-854e-35f07e9abcde"
      },
      "outputs": [
        {
          "name": "stdout",
          "output_type": "stream",
          "text": [
            "\n",
            "Type II MANOVA Tests: Pillai test statistic\n",
            "        Df test stat approx F num Df den Df    Pr(>F)    \n",
            "Cluster  1  0.097498   518.06      2   9591 < 2.2e-16 ***\n",
            "---\n",
            "Signif. codes:  0 ‘***’ 0.001 ‘**’ 0.01 ‘*’ 0.05 ‘.’ 0.1 ‘ ’ 1\n"
          ]
        },
        {
          "data": {
            "text/plain": [
              "\n",
              "Type II MANOVA Tests:\n",
              "\n",
              "Sum of squares and products for error:\n",
              "           Sales   Profit\n",
              "Sales  774099886 98664791\n",
              "Profit  98664791 43981142\n",
              "\n",
              "------------------------------------------\n",
              " \n",
              "Term: Cluster \n",
              "\n",
              "Sum of squares and products for the hypothesis:\n",
              "          Sales   Profit\n",
              "Sales  28977481 11708818\n",
              "Profit 11708818  4731137\n",
              "\n",
              "Multivariate Tests: Cluster\n",
              "                 Df test stat approx F num Df den Df     Pr(>F)    \n",
              "Pillai            1 0.0974979 518.0609      2   9591 < 2.22e-16 ***\n",
              "Wilks             1 0.9025021 518.0609      2   9591 < 2.22e-16 ***\n",
              "Hotelling-Lawley  1 0.1080306 518.0609      2   9591 < 2.22e-16 ***\n",
              "Roy               1 0.1080306 518.0609      2   9591 < 2.22e-16 ***\n",
              "---\n",
              "Signif. codes:  0 ‘***’ 0.001 ‘**’ 0.01 ‘*’ 0.05 ‘.’ 0.1 ‘ ’ 1"
            ]
          },
          "metadata": {},
          "output_type": "display_data"
        }
      ],
      "source": [
        "# Convert Category to a factor if it is not already\n",
        "data$Category <- as.factor(data$Category)\n",
        "\n",
        "# Fit a multivariate linear model\n",
        "mlm_model <- lm(cbind(Sales, Profit) ~ Cluster, data = data)\n",
        "\n",
        "# Apply the Manova function to the fitted model\n",
        "manova_result <- Manova(mlm_model)\n",
        "\n",
        "# Print the MANOVA results\n",
        "print(manova_result)\n",
        "\n",
        "# Print the summary of the MANOVA results\n",
        "summary(manova_result)"
      ]
    },
    {
      "cell_type": "markdown",
      "metadata": {
        "id": "z2QL8635B3pq"
      },
      "source": [
        "# Results of Type II MANOVA Test\n",
        "\n",
        "## Cluster Variable Analysis\n",
        "The results of the Type II MANOVA test indicate significant differences in the combination of \"Sales\" and \"Profit\" across different levels of the \"Cluster\" variable.\n",
        "\n",
        "### Cluster Variable Analysis\n",
        "- The overall MANOVA test for the \"Cluster\" variable shows strong evidence against the null hypothesis, suggesting that there are statistically significant differences in the combined \"Sales\" and \"Profit\" variables among the clusters.\n",
        "\n",
        "### Multivariate Tests: Cluster\n",
        "- The multivariate tests (Pillai, Wilks, Hotelling-Lawley, and Roy) for the \"Cluster\" variable all yield extremely small p-values, indicating significant effects.\n",
        "- The Pillai's Trace test statistic, Wilks' Lambda test statistic, Hotelling-Lawley's trace test statistic, and Roy's Largest Root test statistic all show high values, further supporting the rejection of the null hypothesis.\n",
        "\n",
        "## Interpretation\n",
        "- The significant results suggest that the \"Cluster\" variable plays a substantial role in explaining the variability observed in both \"Sales\" and \"Profit\" simultaneously.\n",
        "- Differences between clusters likely impact both sales and profit outcomes in a meaningful way.\n",
        "- Further analyses, such as post-hoc tests or additional exploratory analyses, may be warranted to understand the specific nature of these differences and their implications for business strategy or decision-making.\n",
        "\n",
        "Overall, these results emphasize the importance of considering the clustering variable when analyzing and interpreting variations in sales and profit within the dataset.\n"
      ]
    },
    {
      "cell_type": "code",
      "execution_count": null,
      "metadata": {
        "colab": {
          "base_uri": "https://localhost:8080/",
          "height": 399
        },
        "id": "Pyzo68cF_MDr",
        "outputId": "c0ef458e-f60f-4d2b-fddf-d8c701f00082"
      },
      "outputs": [
        {
          "data": {
            "text/plain": [
              "\n",
              "Type II MANOVA Tests:\n",
              "\n",
              "Sum of squares and products for error:\n",
              "           Sales   Profit\n",
              "Sales  774099886 98664791\n",
              "Profit  98664791 43981142\n",
              "\n",
              "------------------------------------------\n",
              " \n",
              "Term: Cluster \n",
              "\n",
              "Sum of squares and products for the hypothesis:\n",
              "          Sales   Profit\n",
              "Sales  28977481 11708818\n",
              "Profit 11708818  4731137\n",
              "\n",
              "Multivariate Test: Cluster\n",
              "        Df test stat approx F num Df den Df     Pr(>F)    \n",
              "Cluster  1 0.9025021 518.0609      2   9591 < 2.22e-16 ***\n",
              "---\n",
              "Signif. codes:  0 ‘***’ 0.001 ‘**’ 0.01 ‘*’ 0.05 ‘.’ 0.1 ‘ ’ 1"
            ]
          },
          "metadata": {},
          "output_type": "display_data"
        }
      ],
      "source": [
        "summary(manova_result, test = \"Wilks\")"
      ]
    },
    {
      "cell_type": "markdown",
      "metadata": {
        "id": "tZ5vdgedCJlU"
      },
      "source": [
        "This output presents the results of a Type II MANOVA test, examining the relationship between the \"Cluster\" variable and the combined dependent variables \"Sales\" and \"Profit.\" Here's a breakdown of the results:\n",
        "\n",
        "### Sum of Squares and Products for Error:\n",
        "\n",
        "This section provides information about the variation in \"Sales\" and \"Profit\" that cannot be explained by the \"Cluster\" variable. It represents the error variance within the model.\n",
        "\n",
        "### Term: Cluster:\n",
        "\n",
        "This section presents the sum of squares and cross-products for the hypothesis related to the \"Cluster\" variable. It indicates how much of the variability in \"Sales\" and \"Profit\" can be attributed to differences between clusters.\n",
        "\n",
        "### Multivariate Test: Cluster:\n",
        "\n",
        "This section summarizes the results of the multivariate test for the \"Cluster\" variable.\n",
        "- \"Df\" represents the degrees of freedom.\n",
        "- \"test stat\" is the test statistic for the multivariate test.\n",
        "- \"approx F\" is the approximate F-statistic.\n",
        "- \"num Df\" and \"den Df\" are the numerator and denominator degrees of freedom, respectively.\n",
        "- \"Pr(>F)\" is the p-value associated with the F-statistic. It indicates the probability of observing such extreme results if the null hypothesis (no effect of the \"Cluster\" variable) were true.\n",
        "- The significance codes indicate the level of significance of the p-value.\n",
        "\n",
        "### Interpretation:\n",
        "\n",
        "The results suggest that the \"Cluster\" variable significantly influences the combined variation in \"Sales\" and \"Profit\" (p < 2.22e-16). This implies that there are statistically significant differences in the joint distribution of \"Sales\" and \"Profit\" across different clusters.\n",
        "- The high F-statistic and low p-value indicate strong evidence against the null hypothesis, supporting the idea that the \"Cluster\" variable plays a significant role in explaining the variability in both \"Sales\" and \"Profit.\"\n",
        "- The results provide valuable insights into how different clusters may impact the performance of both sales and profit, highlighting potential areas for further investigation or targeted interventions.\n"
      ]
    },
    {
      "cell_type": "code",
      "execution_count": null,
      "metadata": {
        "colab": {
          "base_uri": "https://localhost:8080/",
          "height": 104
        },
        "id": "42H2XhQdFtKF",
        "outputId": "49ecc453-0a01-4a50-d3b6-36052882431c"
      },
      "outputs": [
        {
          "data": {
            "text/plain": [
              "              Df    Sum Sq   Mean Sq F value Pr(>F)    \n",
              "Cluster        3 451663862 150554621    4109 <2e-16 ***\n",
              "Residuals   9590 351413505     36644                   \n",
              "---\n",
              "Signif. codes:  0 ‘***’ 0.001 ‘**’ 0.01 ‘*’ 0.05 ‘.’ 0.1 ‘ ’ 1"
            ]
          },
          "metadata": {},
          "output_type": "display_data"
        }
      ],
      "source": [
        "# Assuming mf is your dataframe and 'Cluster' is a column in it\n",
        "data$Cluster <- factor(data$Cluster)\n",
        "# Fit the ANOVA model\n",
        "anova_model <- aov(Sales ~ Cluster, data = data)\n",
        "\n",
        "# Summarize the ANOVA model\n",
        "summary(anova_model)"
      ]
    },
    {
      "cell_type": "markdown",
      "metadata": {
        "id": "dlZ11LsYGLmX"
      },
      "source": [
        "## ANOVA Results Interpretation\n",
        "\n",
        "This output is from an ANOVA (Analysis of Variance) test, which is used to compare the means of different groups to determine if there are statistically significant differences among them. Below is a breakdown of the components of this ANOVA table:\n",
        "\n",
        "### ANOVA Table\n",
        "\n",
        "| Source     | Df   | Sum Sq       | Mean Sq    | F value | Pr(>F)  |\n",
        "|------------|------|--------------|------------|---------|---------|\n",
        "| Cluster    | 3    | 451,663,862  | 150,554,621| 4109    | <2e-16 *** |\n",
        "| Residuals  | 9590 | 351,413,505  | 36,644     |         |         |\n",
        "\n",
        "**Significance Codes:**  \n",
        "- '***' indicates a p-value < 0.001\n",
        "\n",
        "### Interpretation:\n",
        "\n",
        "- **Degrees of Freedom (Df)**:\n",
        "  - **Cluster**: 3\n",
        "  - **Residuals**: 9590\n",
        "\n",
        "- **Sum of Squares (Sum Sq)**:\n",
        "  - **Cluster**: 451,663,862\n",
        "  - **Residuals**: 351,413,505\n",
        "\n",
        "- **Mean Square (Mean Sq)**:\n",
        "  - **Cluster**: 150,554,621 (calculated as Sum Sq / Df)\n",
        "  - **Residuals**: 36,644 (calculated as Sum Sq / Df)\n",
        "\n",
        "- **F value**: 4109 (calculated as Mean Sq Cluster / Mean Sq Residuals)\n",
        "\n",
        "- **Pr(>F)**: <2e-16 (the p-value, indicating the probability of obtaining an F statistic at least as extreme as the one observed, assuming the null hypothesis is true)\n",
        "\n",
        "### Conclusion:\n",
        "\n",
        "The degrees of freedom for the **Cluster** is 3, indicating there are 4 groups (number of groups = Df + 1). The degrees of freedom for the **Residuals** is 9590, representing the remaining observations after accounting for the clusters. The **Sum of Squares** for the Cluster is much larger than for the Residuals, indicating that a large portion of the variance in the data is explained by the clustering. The **Mean Square** values are the Sum of Squares divided by their respective degrees of freedom. The **F value** is extremely high (4109), suggesting a very strong effect of the clustering on the variance. The **p-value** (<2e-16) is exceedingly small, far below common significance levels (such as 0.05), strongly indicating that the differences among the cluster means are statistically significant.\n",
        "\n",
        "In conclusion, the ANOVA results show that there is a statistically significant difference between the means of the clusters. This strong significance (p-value < 2e-16) indicates that the grouping of data into clusters explains a substantial amount of variance in the data.\n"
      ]
    },
    {
      "cell_type": "code",
      "execution_count": null,
      "metadata": {
        "colab": {
          "base_uri": "https://localhost:8080/",
          "height": 243
        },
        "id": "fU9sN4XdJKNe",
        "outputId": "34e63bca-2ed8-4765-a621-1d909a78bd40"
      },
      "outputs": [
        {
          "data": {
            "text/plain": [
              "  Tukey multiple comparisons of means\n",
              "    95% family-wise confidence level\n",
              "\n",
              "Fit: aov(formula = Sales ~ Cluster, data = data)\n",
              "\n",
              "$Cluster\n",
              "          diff        lwr        upr    p adj\n",
              "2-1  -37.65416  -54.56985  -20.73847 1.00e-07\n",
              "3-1  872.80709  847.35570  898.25847 0.00e+00\n",
              "4-1   33.14529   14.43473   51.85585 3.19e-05\n",
              "3-2  910.46125  889.33899  931.58350 0.00e+00\n",
              "4-2   70.79945   58.61496   82.98394 0.00e+00\n",
              "4-3 -839.66179 -862.24706 -817.07653 0.00e+00\n"
            ]
          },
          "metadata": {},
          "output_type": "display_data"
        }
      ],
      "source": [
        "# Post-hoc analysis (only needed for more than two groups)\n",
        "tukey_result <- TukeyHSD(anova_model)\n",
        "\n",
        "# Summarize the Tukey post-hoc analysis\n",
        "tukey_result"
      ]
    },
    {
      "cell_type": "markdown",
      "metadata": {
        "id": "kA83CY7tKTuw"
      },
      "source": [
        "## Tukey Multiple Comparisons of Means\n",
        "### 95% Family-wise Confidence Level\n",
        "\n",
        "**Fit**: `aov(formula = Sales ~ Cluster, data = data)`\n",
        "\n",
        "### Results\n",
        "\n",
        "| Comparison | diff       | lwr         | upr         | p adj     |\n",
        "|------------|------------|-------------|-------------|-----------|\n",
        "| 2 - 1      | -37.65416  | -54.56985   | -20.73847   | 1.00e-07  |\n",
        "| 3 - 1      | 872.80709  | 847.35570   | 898.25847   | 0.00e+00  |\n",
        "| 4 - 1      | 33.14529   | 14.43473    | 51.85585    | 3.19e-05  |\n",
        "| 3 - 2      | 910.46125  | 889.33899   | 931.58350   | 0.00e+00  |\n",
        "| 4 - 2      | 70.79945   | 58.61496    | 82.98394    | 0.00e+00  |\n",
        "| 4 - 3      | -839.66179 | -862.24706  | -817.07653  | 0.00e+00  |\n",
        "\n",
        "### Interpretation\n",
        "\n",
        "The table provides the results of Tukey's Honest Significant Difference (HSD) test, which is used to determine which specific groups' means (from the ANOVA) are significantly different from each other. Here is a breakdown of the comparisons:\n",
        "\n",
        "1. **2 - 1**: The mean difference between clusters 2 and 1 is -37.65. The 95% confidence interval is from -54.57 to -20.74, and the adjusted p-value is 1.00e-07. This indicates that cluster 2 has significantly lower sales than cluster 1.\n",
        "  \n",
        "2. **3 - 1**: The mean difference between clusters 3 and 1 is 872.81. The 95% confidence interval is from 847.36 to 898.26, and the adjusted p-value is 0.00e+00. This indicates that cluster 3 has significantly higher sales than cluster 1.\n",
        "  \n",
        "3. **4 - 1**: The mean difference between clusters 4 and 1 is 33.15. The 95% confidence interval is from 14.43 to 51.86, and the adjusted p-value is 3.19e-05. This indicates that cluster 4 has significantly higher sales than cluster 1.\n",
        "  \n",
        "4. **3 - 2**: The mean difference between clusters 3 and 2 is 910.46. The 95% confidence interval is from 889.34 to 931.58, and the adjusted p-value is 0.00e+00. This indicates that cluster 3 has significantly higher sales than cluster 2.\n",
        "  \n",
        "5. **4 - 2**: The mean difference between clusters 4 and 2 is 70.80. The 95% confidence interval is from 58.61 to 82.98, and the adjusted p-value is 0.00e+00. This indicates that cluster 4 has significantly higher sales than cluster 2.\n",
        "  \n",
        "6. **4 - 3**: The mean difference between clusters 4 and 3 is -839.66. The 95% confidence interval is from -862.25 to -817.08, and the adjusted p-value is 0.00e+00. This indicates that cluster 4 has significantly lower sales than cluster 3.\n",
        "\n",
        "In summary, all pairwise comparisons show statistically significant differences in mean sales between the clusters, with p-values well below the common significance level (0.05). This further supports the ANOVA results indicating significant differences among the clusters.\n"
      ]
    },
    {
      "cell_type": "code",
      "execution_count": null,
      "metadata": {
        "colab": {
          "base_uri": "https://localhost:8080/",
          "height": 437
        },
        "id": "LvBZRPy3W6zs",
        "outputId": "e591565c-4752-4c05-b920-d4eb4817571e"
      },
      "outputs": [
        {
          "data": {
            "image/png": "[encoded data removed]",
            "text/plain": [
              "plot without title"
            ]
          },
          "metadata": {
            "image/png": {
              "height": 420,
              "width": 420
            }
          },
          "output_type": "display_data"
        }
      ],
      "source": [
        "# Tukey HSD results\n",
        "tukey_result <- list(\n",
        "  Cluster = data.frame(\n",
        "    diff = c(-37.65416, 872.80709, 33.14529, 910.46125, 70.79945, -839.66179),\n",
        "    lwr = c(-54.56985, 847.35570, 14.43473, 889.33899, 58.61496, -862.24706),\n",
        "    upr = c(-20.73847, 898.25847, 51.85585, 931.58350, 82.98394, -817.07653),\n",
        "    p.adj = c(1.00e-07, 0.00e+00, 3.19e-05, 0.00e+00, 0.00e+00, 0.00e+00)\n",
        "  )\n",
        ")\n",
        "\n",
        "# Convert Tukey HSD results to dataframe\n",
        "tukey_df <- as.data.frame(tukey_result$Cluster)\n",
        "\n",
        "# Add a 'Comparison' column for x-axis labels\n",
        "tukey_df$Comparison <- rownames(tukey_df)\n",
        "\n",
        "# Create the grouped bar plot\n",
        "ggplot(tukey_df, aes(x = Comparison, y = diff, fill = Comparison)) +\n",
        "  geom_bar(stat = \"identity\", position = \"dodge\") +\n",
        "  geom_errorbar(aes(ymin = lwr, ymax = upr),\n",
        "                width = 0.2,                    # Width of the error bars\n",
        "                position = position_dodge(0.9)) +    # Position of the error bars\n",
        "  labs(title = \"Differences in Sales between Clusters (Tukey HSD)\",\n",
        "       x = \"Comparison\",\n",
        "       y = \"Difference in Sales\",\n",
        "       fill = \"Cluster\") +\n",
        "  theme_minimal() +\n",
        "  theme(legend.position = \"none\") +\n",
        "  coord_flip()  # Flip the coordinates for better readability"
      ]
    },
    {
      "cell_type": "markdown",
      "metadata": {
        "id": "LF9xQZVDOBwA"
      },
      "source": [
        "# Interpretation of Differences in Sales between Clusters (Tukey HSD)\n",
        "\n",
        "## General Interpretation\n",
        "- **Tukey HSD Test**: This statistical test is used to identify if there are significant differences between the means of multiple groups (clusters in this case). The bars represent the differences in sales between pairs of clusters, and the error bars indicate the confidence intervals for these differences.\n",
        "\n",
        "## Specific Comparisons\n",
        "\n",
        "### Comparison 6 (Magenta)\n",
        "- **Difference in Sales**: Approximately 600\n",
        "- **Interpretation**: The sales for one cluster are significantly higher than the other by about 600 units. The confidence interval does not include zero, indicating a statistically significant difference.\n",
        "\n",
        "### Comparison 5 (Blue)\n",
        "- **Difference in Sales**: Approximately -100\n",
        "- **Interpretation**: The sales for one cluster are slightly lower than the other by about 100 units. The confidence interval includes zero, indicating this difference is not statistically significant.\n",
        "\n",
        "### Comparison 4 (Cyan)\n",
        "- **Difference in Sales**: Approximately 800\n",
        "- **Interpretation**: The sales for one cluster are significantly higher than the other by about 800 units. The confidence interval does not include zero, indicating a statistically significant difference.\n",
        "\n",
        "### Comparison 3 (Green)\n",
        "- **Difference in Sales**: Approximately -50\n",
        "- **Interpretation**: The sales for one cluster are slightly lower than the other by about 50 units. The confidence interval includes zero, indicating this difference is not statistically significant.\n",
        "\n",
        "### Comparison 2 (Golden Yellow)\n",
        "- **Difference in Sales**: Approximately 900\n",
        "- **Interpretation**: The sales for one cluster are significantly higher than the other by about 900 units. The confidence interval does not include zero, indicating a statistically significant difference.\n",
        "\n",
        "### Comparison 1 (Red)\n",
        "- **Difference in Sales**: Approximately -200\n",
        "- **Interpretation**: The sales for one cluster are slightly lower than the other by about 200 units. The confidence interval includes zero, indicating this difference is not statistically significant.\n",
        "\n",
        "## Overall Interpretation\n",
        "- **Statistically Significant Differences**: Comparisons 6, 4, and 2 show significant differences in sales between the clusters, as their confidence intervals do not include zero.\n",
        "- **Non-significant Differences**: Comparisons 5, 3, and 1 show differences that are not statistically significant, as their confidence intervals include zero.\n",
        "\n",
        "This means that for comparisons 6, 4, and 2, the clusters being compared have meaningful differences in sales, while for comparisons 5, 3, and 1, the differences in sales are not statistically meaningful and could be due to random variation.\n"
      ]
    },
    {
      "cell_type": "code",
      "execution_count": null,
      "metadata": {
        "colab": {
          "base_uri": "https://localhost:8080/"
        },
        "id": "3JprTXxpBHj-",
        "outputId": "a7f99300-c145-4339-bde0-f7f19053f518"
      },
      "outputs": [
        {
          "name": "stdout",
          "output_type": "stream",
          "text": [
            "Number of unique values in column: Row ID \n",
            "[1] 9594\n",
            "\n",
            "Number of unique values in column: Order ID \n",
            "[1] 4908\n",
            "\n",
            "Number of unique values in column: Order Date \n",
            "[1] 1232\n",
            "\n",
            "Number of unique values in column: Ship Date \n",
            "[1] 1329\n",
            "\n",
            "Number of unique values in column: Ship Mode \n",
            "[1] 4\n",
            "\n",
            "Number of unique values in column: Customer ID \n",
            "[1] 793\n",
            "\n",
            "Number of unique values in column: Customer Name \n",
            "[1] 793\n",
            "\n",
            "Number of unique values in column: Segment \n",
            "[1] 3\n",
            "\n",
            "Number of unique values in column: Country \n",
            "[1] 1\n",
            "\n",
            "Number of unique values in column: City \n",
            "[1] 527\n",
            "\n",
            "Number of unique values in column: State \n",
            "[1] 49\n",
            "\n",
            "Number of unique values in column: Postal Code \n",
            "[1] 627\n",
            "\n",
            "Number of unique values in column: Region \n",
            "[1] 4\n",
            "\n",
            "Number of unique values in column: Product ID \n",
            "[1] 1839\n",
            "\n",
            "Number of unique values in column: Category \n",
            "[1] 3\n",
            "\n",
            "Number of unique values in column: Sub-Category \n",
            "[1] 17\n",
            "\n",
            "Number of unique values in column: Product Name \n",
            "[1] 1826\n",
            "\n",
            "Number of unique values in column: Sales \n",
            "[1] 5487\n",
            "\n",
            "Number of unique values in column: Quantity \n",
            "[1] 11\n",
            "\n",
            "Number of unique values in column: Discount \n",
            "[1] 12\n",
            "\n",
            "Number of unique values in column: Profit \n",
            "[1] 6925\n",
            "\n",
            "Number of unique values in column: Cluster \n",
            "[1] 4\n",
            "\n"
          ]
        }
      ],
      "source": [
        "# Loop through each column in the data frame\n",
        "for (col in names(data)) {\n",
        "  # Print the column name\n",
        "  cat(\"Number of unique values in column:\", col, \"\\n\")\n",
        "  # Print the number of unique values in the column\n",
        "  print(length(unique(data[[col]])))\n",
        "  # Print a blank line for readability\n",
        "  cat(\"\\n\")\n",
        "}"
      ]
    },
    {
      "cell_type": "code",
      "execution_count": null,
      "metadata": {
        "colab": {
          "base_uri": "https://localhost:8080/",
          "height": 437
        },
        "id": "eeoFTd4QAbXd",
        "outputId": "89375f46-853f-4f21-8af1-eacb7268fcb3"
      },
      "outputs": [
        {
          "data": {
            "image/png": "[encoded data removed]",
            "text/plain": [
              "Plot with title “”"
            ]
          },
          "metadata": {
            "image/png": {
              "height": 420,
              "width": 420
            }
          },
          "output_type": "display_data"
        }
      ],
      "source": [
        "# Load the necessary libraries\n",
        "library(dplyr)\n",
        "library(corrplot)\n",
        "\n",
        "# Select only the numeric columns from the data frame\n",
        "numeric_data <- data %>%\n",
        "  select_if(is.numeric)\n",
        "\n",
        "# Calculate the correlation matrix\n",
        "cor_matrix <- cor(numeric_data)\n",
        "\n",
        "# Extract the correlation coefficients for the target column\n",
        "target_cor <- cor_matrix[, \"Profit\"]\n",
        "\n",
        "# Create a correlation plot\n",
        "corrplot(cor_matrix, method = \"circle\", order = \"hclust\", tl.col = \"black\", tl.srt = 45, tl.cex = 0.8, addCoef.col = \"black\", addCoefasPercent = TRUE)\n",
        "\n",
        "# Highlight the correlation coefficients for the target column\n",
        "text(rep(ncol(cor_matrix), nrow(cor_matrix)), seq(nrow(cor_matrix)), labels = round(target_cor, 2), col = \"red\", cex = 0.8, pos = 4)\n"
      ]
    },
    {
      "cell_type": "markdown",
      "metadata": {
        "id": "vd8dV2ic3_ny"
      },
      "source": [
        "## Description of the Correlation Matrix\n",
        "\n",
        "### Correlation Coefficients:\n",
        "\n",
        "- Positive values (closer to 1) indicate a positive correlation: as one variable increases, the other variable also increases.\n",
        "- Negative values (closer to -1) indicate a negative correlation: as one variable increases, the other variable decreases.\n",
        "- Values close to 0 indicate little to no linear relationship between the variables.\n",
        "\n",
        "### Color and Size Coding:\n",
        "\n",
        "- The color bar on the right indicates the range of correlation values from -1 (red) to 1 (blue).\n",
        "- The size of the circles is proportional to the magnitude of the correlation coefficient.\n",
        "- Larger and darker blue circles represent stronger positive correlations.\n",
        "- Larger and darker red circles represent stronger negative correlations.\n",
        "\n",
        "### Relationships to the Sales and Profit Columns\n",
        "\n",
        "### Correlation Analysis Summary\n",
        "\n",
        "**Quantity and Sales (0.24):**\n",
        "- There is a weak positive correlation between Quantity and Sales. As the quantity of items sold increases, sales tend to increase, although the relationship is not strong.\n",
        "\n",
        "**Sales and Profit (0.56):**\n",
        "- There is a moderate positive correlation between Sales and Profit. Higher sales are generally associated with higher profit, indicating a meaningful but not absolute relationship.\n",
        "\n",
        "**Profit and Discount (-0.36):**\n",
        "- There is a moderate negative correlation between Profit and Discount. Higher discounts tend to correlate with lower profits, suggesting discounts impact profitability.\n",
        "\n",
        "**Row ID and Postal Code (0.56):**\n",
        "- There is a moderate positive correlation between Row ID and Postal Code. This suggests a structured ordering or grouping where certain ranges of Row IDs correspond to specific postal codes.\n",
        "\n",
        "**Quantity and Profit (0.02):**\n",
        "- There is a very weak positive correlation between Quantity and Profit. The quantity of items sold has minimal impact on profit, indicating other factors are more influential.\n",
        "\n",
        "**Sales and Discount (-0.02):**\n",
        "- There is a very weak negative correlation between Sales and Discount. Discounts have little impact on sales, implying other factors drive sales.\n",
        "\n",
        "**Quantity and Discount (-0.07):**\n",
        "- There is a very weak negative correlation between Quantity and Discount. Discounts do not significantly affect the quantity of items sold.\n",
        "\n",
        "**Postal Code and Other Variables:**\n",
        "- Postal Code shows very weak correlations with Quantity, Sales, and Profit, suggesting geographic location has minimal relationship with these variables in this dataset.\n",
        "\n",
        "**Row ID and Other Variables:**\n",
        "- Row ID shows very weak correlations with Quantity, Sales, and Profit, indicating sequential order has negligible impact on these variables.\n",
        "\n",
        "### Summary\n",
        "- **Strongest Positive Correlation:** Sales and Profit (0.56) – Higher sales generally lead to higher profits.\n",
        "- **Strongest Negative Correlation:** Profit and Discount (-0.36) – Higher discounts generally lead to lower profits.\n",
        "- **Weak Correlations:** Other variables show weak correlations, indicating their relationships are not strongly linear.\n",
        "\n",
        "These insights provide a basis for understanding dataset dynamics and can inform strategic decisions. For example, to increase profit, strategies focusing on boosting sales while managing discounts effectively might be more impactful.\n",
        "\n"
      ]
    },
    {
      "cell_type": "markdown",
      "metadata": {
        "id": "zls6UJEc1LBu"
      },
      "source": [
        "# Prediction"
      ]
    },
    {
      "cell_type": "code",
      "execution_count": null,
      "metadata": {
        "id": "acLtB20pEU1A"
      },
      "outputs": [],
      "source": [
        "# Convert the categorical columns to factors\n",
        "data$Region <- factor(data$Region)\n",
        "data$Category <- factor(data$Category)\n",
        "\n",
        "# Create dummy variables for each level of the categorical variables\n",
        "dummy_vars <- model.matrix(~  + Region + Category - 1, data = data)\n",
        "\n",
        "# Remove the original categorical columns from the data frame\n",
        "data <- data %>%\n",
        "  select(-Region, -Category)\n",
        "\n",
        "# Add the dummy variables to the data frame\n",
        "data <- cbind(data, dummy_vars)"
      ]
    },
    {
      "cell_type": "code",
      "execution_count": null,
      "metadata": {
        "colab": {
          "base_uri": "https://localhost:8080/",
          "height": 1000
        },
        "id": "M0-sprwJDNfv",
        "outputId": "8c24b761-649c-45af-a3eb-6abdd52e0551"
      },
      "outputs": [
        {
          "data": {
            "text/html": [
              "<table class=\"dataframe\">\n",
              "<caption>A data.frame: 9594 × 12</caption>\n",
              "<thead>\n",
              "\t<tr><th></th><th scope=col>Ship Mode</th><th scope=col>Segment</th><th scope=col>Sales</th><th scope=col>Quantity</th><th scope=col>Discount</th><th scope=col>Cluster</th><th scope=col>RegionCentral</th><th scope=col>RegionEast</th><th scope=col>RegionSouth</th><th scope=col>RegionWest</th><th scope=col>CategoryOffice Supplies</th><th scope=col>CategoryTechnology</th></tr>\n",
              "\t<tr><th></th><th scope=col>&lt;chr&gt;</th><th scope=col>&lt;chr&gt;</th><th scope=col>&lt;dbl&gt;</th><th scope=col>&lt;dbl&gt;</th><th scope=col>&lt;dbl&gt;</th><th scope=col>&lt;fct&gt;</th><th scope=col>&lt;dbl&gt;</th><th scope=col>&lt;dbl&gt;</th><th scope=col>&lt;dbl&gt;</th><th scope=col>&lt;dbl&gt;</th><th scope=col>&lt;dbl&gt;</th><th scope=col>&lt;dbl&gt;</th></tr>\n",
              "</thead>\n",
              "<tbody>\n",
              "\t<tr><th scope=row>1</th><td>Second Class  </td><td>Consumer   </td><td> 261.960</td><td>2</td><td>0.0</td><td>2</td><td>0</td><td>0</td><td>1</td><td>0</td><td>0</td><td>0</td></tr>\n",
              "\t<tr><th scope=row>2</th><td>Second Class  </td><td>Consumer   </td><td> 731.940</td><td>3</td><td>0.0</td><td>3</td><td>0</td><td>0</td><td>1</td><td>0</td><td>0</td><td>0</td></tr>\n",
              "\t<tr><th scope=row>3</th><td>Second Class  </td><td>Corporate  </td><td>  14.620</td><td>2</td><td>0.0</td><td>2</td><td>0</td><td>0</td><td>0</td><td>1</td><td>1</td><td>0</td></tr>\n",
              "\t<tr><th scope=row>4</th><td>Standard Class</td><td>Consumer   </td><td>  22.368</td><td>2</td><td>0.2</td><td>2</td><td>0</td><td>0</td><td>1</td><td>0</td><td>1</td><td>0</td></tr>\n",
              "\t<tr><th scope=row>5</th><td>Standard Class</td><td>Consumer   </td><td>  48.860</td><td>7</td><td>0.0</td><td>4</td><td>0</td><td>0</td><td>0</td><td>1</td><td>0</td><td>0</td></tr>\n",
              "\t<tr><th scope=row>6</th><td>Standard Class</td><td>Consumer   </td><td>   7.280</td><td>4</td><td>0.0</td><td>2</td><td>0</td><td>0</td><td>0</td><td>1</td><td>1</td><td>0</td></tr>\n",
              "\t<tr><th scope=row>7</th><td>Standard Class</td><td>Consumer   </td><td> 907.152</td><td>6</td><td>0.2</td><td>3</td><td>0</td><td>0</td><td>0</td><td>1</td><td>0</td><td>1</td></tr>\n",
              "\t<tr><th scope=row>8</th><td>Standard Class</td><td>Consumer   </td><td>  18.504</td><td>3</td><td>0.2</td><td>2</td><td>0</td><td>0</td><td>0</td><td>1</td><td>1</td><td>0</td></tr>\n",
              "\t<tr><th scope=row>9</th><td>Standard Class</td><td>Consumer   </td><td> 114.900</td><td>5</td><td>0.0</td><td>4</td><td>0</td><td>0</td><td>0</td><td>1</td><td>1</td><td>0</td></tr>\n",
              "\t<tr><th scope=row>10</th><td>Standard Class</td><td>Consumer   </td><td>1706.184</td><td>9</td><td>0.2</td><td>3</td><td>0</td><td>0</td><td>0</td><td>1</td><td>0</td><td>0</td></tr>\n",
              "\t<tr><th scope=row>11</th><td>Standard Class</td><td>Consumer   </td><td> 911.424</td><td>4</td><td>0.2</td><td>3</td><td>0</td><td>0</td><td>0</td><td>1</td><td>0</td><td>1</td></tr>\n",
              "\t<tr><th scope=row>12</th><td>Standard Class</td><td>Consumer   </td><td>  15.552</td><td>3</td><td>0.2</td><td>2</td><td>0</td><td>0</td><td>1</td><td>0</td><td>1</td><td>0</td></tr>\n",
              "\t<tr><th scope=row>13</th><td>Standard Class</td><td>Consumer   </td><td> 407.976</td><td>3</td><td>0.2</td><td>2</td><td>0</td><td>0</td><td>0</td><td>1</td><td>1</td><td>0</td></tr>\n",
              "\t<tr><th scope=row>14</th><td>Standard Class</td><td>Home Office</td><td>  68.810</td><td>5</td><td>0.8</td><td>1</td><td>1</td><td>0</td><td>0</td><td>0</td><td>1</td><td>0</td></tr>\n",
              "\t<tr><th scope=row>15</th><td>Standard Class</td><td>Home Office</td><td>   2.544</td><td>3</td><td>0.8</td><td>1</td><td>1</td><td>0</td><td>0</td><td>0</td><td>1</td><td>0</td></tr>\n",
              "\t<tr><th scope=row>16</th><td>Standard Class</td><td>Consumer   </td><td> 665.880</td><td>6</td><td>0.0</td><td>4</td><td>1</td><td>0</td><td>0</td><td>0</td><td>1</td><td>0</td></tr>\n",
              "\t<tr><th scope=row>17</th><td>Second Class  </td><td>Consumer   </td><td>  55.500</td><td>2</td><td>0.0</td><td>2</td><td>0</td><td>0</td><td>0</td><td>1</td><td>1</td><td>0</td></tr>\n",
              "\t<tr><th scope=row>18</th><td>Second Class  </td><td>Consumer   </td><td>   8.560</td><td>2</td><td>0.0</td><td>2</td><td>0</td><td>0</td><td>0</td><td>1</td><td>1</td><td>0</td></tr>\n",
              "\t<tr><th scope=row>19</th><td>Second Class  </td><td>Consumer   </td><td> 213.480</td><td>3</td><td>0.2</td><td>2</td><td>0</td><td>0</td><td>0</td><td>1</td><td>0</td><td>1</td></tr>\n",
              "\t<tr><th scope=row>20</th><td>Second Class  </td><td>Consumer   </td><td>  22.720</td><td>4</td><td>0.2</td><td>2</td><td>0</td><td>0</td><td>0</td><td>1</td><td>1</td><td>0</td></tr>\n",
              "\t<tr><th scope=row>21</th><td>Standard Class</td><td>Corporate  </td><td>  19.460</td><td>7</td><td>0.0</td><td>4</td><td>1</td><td>0</td><td>0</td><td>0</td><td>1</td><td>0</td></tr>\n",
              "\t<tr><th scope=row>22</th><td>Standard Class</td><td>Corporate  </td><td>  60.340</td><td>7</td><td>0.0</td><td>4</td><td>1</td><td>0</td><td>0</td><td>0</td><td>1</td><td>0</td></tr>\n",
              "\t<tr><th scope=row>23</th><td>Second Class  </td><td>Consumer   </td><td>  71.372</td><td>2</td><td>0.3</td><td>2</td><td>0</td><td>1</td><td>0</td><td>0</td><td>0</td><td>0</td></tr>\n",
              "\t<tr><th scope=row>24</th><td>Standard Class</td><td>Consumer   </td><td>1044.630</td><td>3</td><td>0.0</td><td>3</td><td>0</td><td>0</td><td>0</td><td>1</td><td>0</td><td>0</td></tr>\n",
              "\t<tr><th scope=row>25</th><td>Second Class  </td><td>Consumer   </td><td>  11.648</td><td>2</td><td>0.2</td><td>2</td><td>0</td><td>0</td><td>0</td><td>1</td><td>1</td><td>0</td></tr>\n",
              "\t<tr><th scope=row>26</th><td>Second Class  </td><td>Consumer   </td><td>  90.570</td><td>3</td><td>0.0</td><td>2</td><td>0</td><td>0</td><td>0</td><td>1</td><td>0</td><td>1</td></tr>\n",
              "\t<tr><th scope=row>27</th><td>Standard Class</td><td>Consumer   </td><td>   9.618</td><td>2</td><td>0.7</td><td>1</td><td>0</td><td>1</td><td>0</td><td>0</td><td>1</td><td>0</td></tr>\n",
              "\t<tr><th scope=row>28</th><td>Standard Class</td><td>Consumer   </td><td> 124.200</td><td>3</td><td>0.2</td><td>2</td><td>0</td><td>1</td><td>0</td><td>0</td><td>0</td><td>0</td></tr>\n",
              "\t<tr><th scope=row>29</th><td>Standard Class</td><td>Consumer   </td><td>   3.264</td><td>2</td><td>0.2</td><td>2</td><td>0</td><td>1</td><td>0</td><td>0</td><td>1</td><td>0</td></tr>\n",
              "\t<tr><th scope=row>30</th><td>Standard Class</td><td>Consumer   </td><td>  86.304</td><td>6</td><td>0.2</td><td>4</td><td>0</td><td>1</td><td>0</td><td>0</td><td>1</td><td>0</td></tr>\n",
              "\t<tr><th scope=row>⋮</th><td>⋮</td><td>⋮</td><td>⋮</td><td>⋮</td><td>⋮</td><td>⋮</td><td>⋮</td><td>⋮</td><td>⋮</td><td>⋮</td><td>⋮</td><td>⋮</td></tr>\n",
              "\t<tr><th scope=row>9565</th><td>Same Day      </td><td>Consumer   </td><td> 10.368</td><td> 2</td><td>0.2</td><td>2</td><td>0</td><td>1</td><td>0</td><td>0</td><td>1</td><td>0</td></tr>\n",
              "\t<tr><th scope=row>9566</th><td>Second Class  </td><td>Corporate  </td><td> 13.400</td><td> 1</td><td>0.0</td><td>2</td><td>0</td><td>1</td><td>0</td><td>0</td><td>0</td><td>0</td></tr>\n",
              "\t<tr><th scope=row>9567</th><td>Second Class  </td><td>Corporate  </td><td>  4.980</td><td> 1</td><td>0.0</td><td>2</td><td>0</td><td>1</td><td>0</td><td>0</td><td>1</td><td>0</td></tr>\n",
              "\t<tr><th scope=row>9568</th><td>Second Class  </td><td>Corporate  </td><td>109.690</td><td> 7</td><td>0.0</td><td>4</td><td>0</td><td>1</td><td>0</td><td>0</td><td>1</td><td>0</td></tr>\n",
              "\t<tr><th scope=row>9569</th><td>Standard Class</td><td>Consumer   </td><td> 40.200</td><td> 5</td><td>0.0</td><td>4</td><td>0</td><td>1</td><td>0</td><td>0</td><td>1</td><td>0</td></tr>\n",
              "\t<tr><th scope=row>9570</th><td>Standard Class</td><td>Consumer   </td><td>735.980</td><td> 2</td><td>0.0</td><td>3</td><td>0</td><td>1</td><td>0</td><td>0</td><td>1</td><td>0</td></tr>\n",
              "\t<tr><th scope=row>9571</th><td>Standard Class</td><td>Consumer   </td><td> 22.750</td><td> 7</td><td>0.0</td><td>4</td><td>0</td><td>1</td><td>0</td><td>0</td><td>1</td><td>0</td></tr>\n",
              "\t<tr><th scope=row>9572</th><td>Standard Class</td><td>Home Office</td><td>119.560</td><td> 2</td><td>0.0</td><td>2</td><td>0</td><td>0</td><td>1</td><td>0</td><td>1</td><td>0</td></tr>\n",
              "\t<tr><th scope=row>9573</th><td>Standard Class</td><td>Home Office</td><td>140.750</td><td> 5</td><td>0.0</td><td>4</td><td>0</td><td>0</td><td>1</td><td>0</td><td>1</td><td>0</td></tr>\n",
              "\t<tr><th scope=row>9574</th><td>Standard Class</td><td>Consumer   </td><td> 99.568</td><td> 2</td><td>0.2</td><td>2</td><td>1</td><td>0</td><td>0</td><td>0</td><td>1</td><td>0</td></tr>\n",
              "\t<tr><th scope=row>9575</th><td>Standard Class</td><td>Home Office</td><td>271.960</td><td> 5</td><td>0.2</td><td>4</td><td>0</td><td>0</td><td>0</td><td>1</td><td>0</td><td>1</td></tr>\n",
              "\t<tr><th scope=row>9576</th><td>Standard Class</td><td>Home Office</td><td> 18.690</td><td> 7</td><td>0.0</td><td>4</td><td>0</td><td>0</td><td>0</td><td>1</td><td>1</td><td>0</td></tr>\n",
              "\t<tr><th scope=row>9577</th><td>Standard Class</td><td>Home Office</td><td> 13.360</td><td> 2</td><td>0.0</td><td>2</td><td>0</td><td>0</td><td>0</td><td>1</td><td>1</td><td>0</td></tr>\n",
              "\t<tr><th scope=row>9578</th><td>Standard Class</td><td>Home Office</td><td>249.584</td><td> 2</td><td>0.2</td><td>2</td><td>0</td><td>0</td><td>0</td><td>1</td><td>0</td><td>1</td></tr>\n",
              "\t<tr><th scope=row>9579</th><td>Standard Class</td><td>Home Office</td><td> 13.860</td><td> 7</td><td>0.0</td><td>4</td><td>0</td><td>0</td><td>0</td><td>1</td><td>1</td><td>0</td></tr>\n",
              "\t<tr><th scope=row>9580</th><td>Standard Class</td><td>Home Office</td><td> 13.376</td><td> 4</td><td>0.2</td><td>2</td><td>0</td><td>0</td><td>0</td><td>1</td><td>1</td><td>0</td></tr>\n",
              "\t<tr><th scope=row>9581</th><td>Second Class  </td><td>Consumer   </td><td> 85.980</td><td> 1</td><td>0.0</td><td>2</td><td>0</td><td>0</td><td>1</td><td>0</td><td>0</td><td>0</td></tr>\n",
              "\t<tr><th scope=row>9582</th><td>First Class   </td><td>Consumer   </td><td> 16.520</td><td> 5</td><td>0.2</td><td>4</td><td>0</td><td>1</td><td>0</td><td>0</td><td>1</td><td>0</td></tr>\n",
              "\t<tr><th scope=row>9583</th><td>Standard Class</td><td>Consumer   </td><td> 35.560</td><td> 7</td><td>0.0</td><td>4</td><td>1</td><td>0</td><td>0</td><td>0</td><td>1</td><td>0</td></tr>\n",
              "\t<tr><th scope=row>9584</th><td>Standard Class</td><td>Consumer   </td><td> 97.980</td><td> 2</td><td>0.0</td><td>2</td><td>1</td><td>0</td><td>0</td><td>0</td><td>0</td><td>1</td></tr>\n",
              "\t<tr><th scope=row>9585</th><td>Standard Class</td><td>Consumer   </td><td> 31.500</td><td>10</td><td>0.0</td><td>4</td><td>0</td><td>1</td><td>0</td><td>0</td><td>1</td><td>0</td></tr>\n",
              "\t<tr><th scope=row>9586</th><td>Standard Class</td><td>Consumer   </td><td> 55.600</td><td> 4</td><td>0.0</td><td>2</td><td>0</td><td>1</td><td>0</td><td>0</td><td>1</td><td>0</td></tr>\n",
              "\t<tr><th scope=row>9587</th><td>Standard Class</td><td>Consumer   </td><td> 36.240</td><td> 1</td><td>0.0</td><td>2</td><td>0</td><td>0</td><td>0</td><td>1</td><td>0</td><td>1</td></tr>\n",
              "\t<tr><th scope=row>9588</th><td>Standard Class</td><td>Corporate  </td><td> 79.990</td><td> 1</td><td>0.0</td><td>2</td><td>0</td><td>0</td><td>1</td><td>0</td><td>0</td><td>1</td></tr>\n",
              "\t<tr><th scope=row>9589</th><td>Standard Class</td><td>Corporate  </td><td>206.100</td><td> 5</td><td>0.0</td><td>4</td><td>0</td><td>0</td><td>1</td><td>0</td><td>0</td><td>1</td></tr>\n",
              "\t<tr><th scope=row>9590</th><td>Second Class  </td><td>Consumer   </td><td> 25.248</td><td> 3</td><td>0.2</td><td>2</td><td>0</td><td>0</td><td>1</td><td>0</td><td>0</td><td>0</td></tr>\n",
              "\t<tr><th scope=row>9591</th><td>Standard Class</td><td>Consumer   </td><td> 91.960</td><td> 2</td><td>0.0</td><td>2</td><td>0</td><td>0</td><td>0</td><td>1</td><td>0</td><td>0</td></tr>\n",
              "\t<tr><th scope=row>9592</th><td>Standard Class</td><td>Consumer   </td><td>258.576</td><td> 2</td><td>0.2</td><td>2</td><td>0</td><td>0</td><td>0</td><td>1</td><td>0</td><td>1</td></tr>\n",
              "\t<tr><th scope=row>9593</th><td>Standard Class</td><td>Consumer   </td><td> 29.600</td><td> 4</td><td>0.0</td><td>2</td><td>0</td><td>0</td><td>0</td><td>1</td><td>1</td><td>0</td></tr>\n",
              "\t<tr><th scope=row>9594</th><td>Second Class  </td><td>Consumer   </td><td>243.160</td><td> 2</td><td>0.0</td><td>2</td><td>0</td><td>0</td><td>0</td><td>1</td><td>1</td><td>0</td></tr>\n",
              "</tbody>\n",
              "</table>\n"
            ],
            "text/latex": "A data.frame: 9594 × 12\n\\begin{tabular}{r|llllllllllll}\n  & Ship Mode & Segment & Sales & Quantity & Discount & Cluster & RegionCentral & RegionEast & RegionSouth & RegionWest & CategoryOffice Supplies & CategoryTechnology\\\\\n  & <chr> & <chr> & <dbl> & <dbl> & <dbl> & <fct> & <dbl> & <dbl> & <dbl> & <dbl> & <dbl> & <dbl>\\\\\n\\hline\n\t1 & Second Class   & Consumer    &  261.960 & 2 & 0.0 & 2 & 0 & 0 & 1 & 0 & 0 & 0\\\\\n\t2 & Second Class   & Consumer    &  731.940 & 3 & 0.0 & 3 & 0 & 0 & 1 & 0 & 0 & 0\\\\\n\t3 & Second Class   & Corporate   &   14.620 & 2 & 0.0 & 2 & 0 & 0 & 0 & 1 & 1 & 0\\\\\n\t4 & Standard Class & Consumer    &   22.368 & 2 & 0.2 & 2 & 0 & 0 & 1 & 0 & 1 & 0\\\\\n\t5 & Standard Class & Consumer    &   48.860 & 7 & 0.0 & 4 & 0 & 0 & 0 & 1 & 0 & 0\\\\\n\t6 & Standard Class & Consumer    &    7.280 & 4 & 0.0 & 2 & 0 & 0 & 0 & 1 & 1 & 0\\\\\n\t7 & Standard Class & Consumer    &  907.152 & 6 & 0.2 & 3 & 0 & 0 & 0 & 1 & 0 & 1\\\\\n\t8 & Standard Class & Consumer    &   18.504 & 3 & 0.2 & 2 & 0 & 0 & 0 & 1 & 1 & 0\\\\\n\t9 & Standard Class & Consumer    &  114.900 & 5 & 0.0 & 4 & 0 & 0 & 0 & 1 & 1 & 0\\\\\n\t10 & Standard Class & Consumer    & 1706.184 & 9 & 0.2 & 3 & 0 & 0 & 0 & 1 & 0 & 0\\\\\n\t11 & Standard Class & Consumer    &  911.424 & 4 & 0.2 & 3 & 0 & 0 & 0 & 1 & 0 & 1\\\\\n\t12 & Standard Class & Consumer    &   15.552 & 3 & 0.2 & 2 & 0 & 0 & 1 & 0 & 1 & 0\\\\\n\t13 & Standard Class & Consumer    &  407.976 & 3 & 0.2 & 2 & 0 & 0 & 0 & 1 & 1 & 0\\\\\n\t14 & Standard Class & Home Office &   68.810 & 5 & 0.8 & 1 & 1 & 0 & 0 & 0 & 1 & 0\\\\\n\t15 & Standard Class & Home Office &    2.544 & 3 & 0.8 & 1 & 1 & 0 & 0 & 0 & 1 & 0\\\\\n\t16 & Standard Class & Consumer    &  665.880 & 6 & 0.0 & 4 & 1 & 0 & 0 & 0 & 1 & 0\\\\\n\t17 & Second Class   & Consumer    &   55.500 & 2 & 0.0 & 2 & 0 & 0 & 0 & 1 & 1 & 0\\\\\n\t18 & Second Class   & Consumer    &    8.560 & 2 & 0.0 & 2 & 0 & 0 & 0 & 1 & 1 & 0\\\\\n\t19 & Second Class   & Consumer    &  213.480 & 3 & 0.2 & 2 & 0 & 0 & 0 & 1 & 0 & 1\\\\\n\t20 & Second Class   & Consumer    &   22.720 & 4 & 0.2 & 2 & 0 & 0 & 0 & 1 & 1 & 0\\\\\n\t21 & Standard Class & Corporate   &   19.460 & 7 & 0.0 & 4 & 1 & 0 & 0 & 0 & 1 & 0\\\\\n\t22 & Standard Class & Corporate   &   60.340 & 7 & 0.0 & 4 & 1 & 0 & 0 & 0 & 1 & 0\\\\\n\t23 & Second Class   & Consumer    &   71.372 & 2 & 0.3 & 2 & 0 & 1 & 0 & 0 & 0 & 0\\\\\n\t24 & Standard Class & Consumer    & 1044.630 & 3 & 0.0 & 3 & 0 & 0 & 0 & 1 & 0 & 0\\\\\n\t25 & Second Class   & Consumer    &   11.648 & 2 & 0.2 & 2 & 0 & 0 & 0 & 1 & 1 & 0\\\\\n\t26 & Second Class   & Consumer    &   90.570 & 3 & 0.0 & 2 & 0 & 0 & 0 & 1 & 0 & 1\\\\\n\t27 & Standard Class & Consumer    &    9.618 & 2 & 0.7 & 1 & 0 & 1 & 0 & 0 & 1 & 0\\\\\n\t28 & Standard Class & Consumer    &  124.200 & 3 & 0.2 & 2 & 0 & 1 & 0 & 0 & 0 & 0\\\\\n\t29 & Standard Class & Consumer    &    3.264 & 2 & 0.2 & 2 & 0 & 1 & 0 & 0 & 1 & 0\\\\\n\t30 & Standard Class & Consumer    &   86.304 & 6 & 0.2 & 4 & 0 & 1 & 0 & 0 & 1 & 0\\\\\n\t⋮ & ⋮ & ⋮ & ⋮ & ⋮ & ⋮ & ⋮ & ⋮ & ⋮ & ⋮ & ⋮ & ⋮ & ⋮\\\\\n\t9565 & Same Day       & Consumer    &  10.368 &  2 & 0.2 & 2 & 0 & 1 & 0 & 0 & 1 & 0\\\\\n\t9566 & Second Class   & Corporate   &  13.400 &  1 & 0.0 & 2 & 0 & 1 & 0 & 0 & 0 & 0\\\\\n\t9567 & Second Class   & Corporate   &   4.980 &  1 & 0.0 & 2 & 0 & 1 & 0 & 0 & 1 & 0\\\\\n\t9568 & Second Class   & Corporate   & 109.690 &  7 & 0.0 & 4 & 0 & 1 & 0 & 0 & 1 & 0\\\\\n\t9569 & Standard Class & Consumer    &  40.200 &  5 & 0.0 & 4 & 0 & 1 & 0 & 0 & 1 & 0\\\\\n\t9570 & Standard Class & Consumer    & 735.980 &  2 & 0.0 & 3 & 0 & 1 & 0 & 0 & 1 & 0\\\\\n\t9571 & Standard Class & Consumer    &  22.750 &  7 & 0.0 & 4 & 0 & 1 & 0 & 0 & 1 & 0\\\\\n\t9572 & Standard Class & Home Office & 119.560 &  2 & 0.0 & 2 & 0 & 0 & 1 & 0 & 1 & 0\\\\\n\t9573 & Standard Class & Home Office & 140.750 &  5 & 0.0 & 4 & 0 & 0 & 1 & 0 & 1 & 0\\\\\n\t9574 & Standard Class & Consumer    &  99.568 &  2 & 0.2 & 2 & 1 & 0 & 0 & 0 & 1 & 0\\\\\n\t9575 & Standard Class & Home Office & 271.960 &  5 & 0.2 & 4 & 0 & 0 & 0 & 1 & 0 & 1\\\\\n\t9576 & Standard Class & Home Office &  18.690 &  7 & 0.0 & 4 & 0 & 0 & 0 & 1 & 1 & 0\\\\\n\t9577 & Standard Class & Home Office &  13.360 &  2 & 0.0 & 2 & 0 & 0 & 0 & 1 & 1 & 0\\\\\n\t9578 & Standard Class & Home Office & 249.584 &  2 & 0.2 & 2 & 0 & 0 & 0 & 1 & 0 & 1\\\\\n\t9579 & Standard Class & Home Office &  13.860 &  7 & 0.0 & 4 & 0 & 0 & 0 & 1 & 1 & 0\\\\\n\t9580 & Standard Class & Home Office &  13.376 &  4 & 0.2 & 2 & 0 & 0 & 0 & 1 & 1 & 0\\\\\n\t9581 & Second Class   & Consumer    &  85.980 &  1 & 0.0 & 2 & 0 & 0 & 1 & 0 & 0 & 0\\\\\n\t9582 & First Class    & Consumer    &  16.520 &  5 & 0.2 & 4 & 0 & 1 & 0 & 0 & 1 & 0\\\\\n\t9583 & Standard Class & Consumer    &  35.560 &  7 & 0.0 & 4 & 1 & 0 & 0 & 0 & 1 & 0\\\\\n\t9584 & Standard Class & Consumer    &  97.980 &  2 & 0.0 & 2 & 1 & 0 & 0 & 0 & 0 & 1\\\\\n\t9585 & Standard Class & Consumer    &  31.500 & 10 & 0.0 & 4 & 0 & 1 & 0 & 0 & 1 & 0\\\\\n\t9586 & Standard Class & Consumer    &  55.600 &  4 & 0.0 & 2 & 0 & 1 & 0 & 0 & 1 & 0\\\\\n\t9587 & Standard Class & Consumer    &  36.240 &  1 & 0.0 & 2 & 0 & 0 & 0 & 1 & 0 & 1\\\\\n\t9588 & Standard Class & Corporate   &  79.990 &  1 & 0.0 & 2 & 0 & 0 & 1 & 0 & 0 & 1\\\\\n\t9589 & Standard Class & Corporate   & 206.100 &  5 & 0.0 & 4 & 0 & 0 & 1 & 0 & 0 & 1\\\\\n\t9590 & Second Class   & Consumer    &  25.248 &  3 & 0.2 & 2 & 0 & 0 & 1 & 0 & 0 & 0\\\\\n\t9591 & Standard Class & Consumer    &  91.960 &  2 & 0.0 & 2 & 0 & 0 & 0 & 1 & 0 & 0\\\\\n\t9592 & Standard Class & Consumer    & 258.576 &  2 & 0.2 & 2 & 0 & 0 & 0 & 1 & 0 & 1\\\\\n\t9593 & Standard Class & Consumer    &  29.600 &  4 & 0.0 & 2 & 0 & 0 & 0 & 1 & 1 & 0\\\\\n\t9594 & Second Class   & Consumer    & 243.160 &  2 & 0.0 & 2 & 0 & 0 & 0 & 1 & 1 & 0\\\\\n\\end{tabular}\n",
            "text/markdown": "\nA data.frame: 9594 × 12\n\n| <!--/--> | Ship Mode &lt;chr&gt; | Segment &lt;chr&gt; | Sales &lt;dbl&gt; | Quantity &lt;dbl&gt; | Discount &lt;dbl&gt; | Cluster &lt;fct&gt; | RegionCentral &lt;dbl&gt; | RegionEast &lt;dbl&gt; | RegionSouth &lt;dbl&gt; | RegionWest &lt;dbl&gt; | CategoryOffice Supplies &lt;dbl&gt; | CategoryTechnology &lt;dbl&gt; |\n|---|---|---|---|---|---|---|---|---|---|---|---|---|\n| 1 | Second Class   | Consumer    |  261.960 | 2 | 0.0 | 2 | 0 | 0 | 1 | 0 | 0 | 0 |\n| 2 | Second Class   | Consumer    |  731.940 | 3 | 0.0 | 3 | 0 | 0 | 1 | 0 | 0 | 0 |\n| 3 | Second Class   | Corporate   |   14.620 | 2 | 0.0 | 2 | 0 | 0 | 0 | 1 | 1 | 0 |\n| 4 | Standard Class | Consumer    |   22.368 | 2 | 0.2 | 2 | 0 | 0 | 1 | 0 | 1 | 0 |\n| 5 | Standard Class | Consumer    |   48.860 | 7 | 0.0 | 4 | 0 | 0 | 0 | 1 | 0 | 0 |\n| 6 | Standard Class | Consumer    |    7.280 | 4 | 0.0 | 2 | 0 | 0 | 0 | 1 | 1 | 0 |\n| 7 | Standard Class | Consumer    |  907.152 | 6 | 0.2 | 3 | 0 | 0 | 0 | 1 | 0 | 1 |\n| 8 | Standard Class | Consumer    |   18.504 | 3 | 0.2 | 2 | 0 | 0 | 0 | 1 | 1 | 0 |\n| 9 | Standard Class | Consumer    |  114.900 | 5 | 0.0 | 4 | 0 | 0 | 0 | 1 | 1 | 0 |\n| 10 | Standard Class | Consumer    | 1706.184 | 9 | 0.2 | 3 | 0 | 0 | 0 | 1 | 0 | 0 |\n| 11 | Standard Class | Consumer    |  911.424 | 4 | 0.2 | 3 | 0 | 0 | 0 | 1 | 0 | 1 |\n| 12 | Standard Class | Consumer    |   15.552 | 3 | 0.2 | 2 | 0 | 0 | 1 | 0 | 1 | 0 |\n| 13 | Standard Class | Consumer    |  407.976 | 3 | 0.2 | 2 | 0 | 0 | 0 | 1 | 1 | 0 |\n| 14 | Standard Class | Home Office |   68.810 | 5 | 0.8 | 1 | 1 | 0 | 0 | 0 | 1 | 0 |\n| 15 | Standard Class | Home Office |    2.544 | 3 | 0.8 | 1 | 1 | 0 | 0 | 0 | 1 | 0 |\n| 16 | Standard Class | Consumer    |  665.880 | 6 | 0.0 | 4 | 1 | 0 | 0 | 0 | 1 | 0 |\n| 17 | Second Class   | Consumer    |   55.500 | 2 | 0.0 | 2 | 0 | 0 | 0 | 1 | 1 | 0 |\n| 18 | Second Class   | Consumer    |    8.560 | 2 | 0.0 | 2 | 0 | 0 | 0 | 1 | 1 | 0 |\n| 19 | Second Class   | Consumer    |  213.480 | 3 | 0.2 | 2 | 0 | 0 | 0 | 1 | 0 | 1 |\n| 20 | Second Class   | Consumer    |   22.720 | 4 | 0.2 | 2 | 0 | 0 | 0 | 1 | 1 | 0 |\n| 21 | Standard Class | Corporate   |   19.460 | 7 | 0.0 | 4 | 1 | 0 | 0 | 0 | 1 | 0 |\n| 22 | Standard Class | Corporate   |   60.340 | 7 | 0.0 | 4 | 1 | 0 | 0 | 0 | 1 | 0 |\n| 23 | Second Class   | Consumer    |   71.372 | 2 | 0.3 | 2 | 0 | 1 | 0 | 0 | 0 | 0 |\n| 24 | Standard Class | Consumer    | 1044.630 | 3 | 0.0 | 3 | 0 | 0 | 0 | 1 | 0 | 0 |\n| 25 | Second Class   | Consumer    |   11.648 | 2 | 0.2 | 2 | 0 | 0 | 0 | 1 | 1 | 0 |\n| 26 | Second Class   | Consumer    |   90.570 | 3 | 0.0 | 2 | 0 | 0 | 0 | 1 | 0 | 1 |\n| 27 | Standard Class | Consumer    |    9.618 | 2 | 0.7 | 1 | 0 | 1 | 0 | 0 | 1 | 0 |\n| 28 | Standard Class | Consumer    |  124.200 | 3 | 0.2 | 2 | 0 | 1 | 0 | 0 | 0 | 0 |\n| 29 | Standard Class | Consumer    |    3.264 | 2 | 0.2 | 2 | 0 | 1 | 0 | 0 | 1 | 0 |\n| 30 | Standard Class | Consumer    |   86.304 | 6 | 0.2 | 4 | 0 | 1 | 0 | 0 | 1 | 0 |\n| ⋮ | ⋮ | ⋮ | ⋮ | ⋮ | ⋮ | ⋮ | ⋮ | ⋮ | ⋮ | ⋮ | ⋮ | ⋮ |\n| 9565 | Same Day       | Consumer    |  10.368 |  2 | 0.2 | 2 | 0 | 1 | 0 | 0 | 1 | 0 |\n| 9566 | Second Class   | Corporate   |  13.400 |  1 | 0.0 | 2 | 0 | 1 | 0 | 0 | 0 | 0 |\n| 9567 | Second Class   | Corporate   |   4.980 |  1 | 0.0 | 2 | 0 | 1 | 0 | 0 | 1 | 0 |\n| 9568 | Second Class   | Corporate   | 109.690 |  7 | 0.0 | 4 | 0 | 1 | 0 | 0 | 1 | 0 |\n| 9569 | Standard Class | Consumer    |  40.200 |  5 | 0.0 | 4 | 0 | 1 | 0 | 0 | 1 | 0 |\n| 9570 | Standard Class | Consumer    | 735.980 |  2 | 0.0 | 3 | 0 | 1 | 0 | 0 | 1 | 0 |\n| 9571 | Standard Class | Consumer    |  22.750 |  7 | 0.0 | 4 | 0 | 1 | 0 | 0 | 1 | 0 |\n| 9572 | Standard Class | Home Office | 119.560 |  2 | 0.0 | 2 | 0 | 0 | 1 | 0 | 1 | 0 |\n| 9573 | Standard Class | Home Office | 140.750 |  5 | 0.0 | 4 | 0 | 0 | 1 | 0 | 1 | 0 |\n| 9574 | Standard Class | Consumer    |  99.568 |  2 | 0.2 | 2 | 1 | 0 | 0 | 0 | 1 | 0 |\n| 9575 | Standard Class | Home Office | 271.960 |  5 | 0.2 | 4 | 0 | 0 | 0 | 1 | 0 | 1 |\n| 9576 | Standard Class | Home Office |  18.690 |  7 | 0.0 | 4 | 0 | 0 | 0 | 1 | 1 | 0 |\n| 9577 | Standard Class | Home Office |  13.360 |  2 | 0.0 | 2 | 0 | 0 | 0 | 1 | 1 | 0 |\n| 9578 | Standard Class | Home Office | 249.584 |  2 | 0.2 | 2 | 0 | 0 | 0 | 1 | 0 | 1 |\n| 9579 | Standard Class | Home Office |  13.860 |  7 | 0.0 | 4 | 0 | 0 | 0 | 1 | 1 | 0 |\n| 9580 | Standard Class | Home Office |  13.376 |  4 | 0.2 | 2 | 0 | 0 | 0 | 1 | 1 | 0 |\n| 9581 | Second Class   | Consumer    |  85.980 |  1 | 0.0 | 2 | 0 | 0 | 1 | 0 | 0 | 0 |\n| 9582 | First Class    | Consumer    |  16.520 |  5 | 0.2 | 4 | 0 | 1 | 0 | 0 | 1 | 0 |\n| 9583 | Standard Class | Consumer    |  35.560 |  7 | 0.0 | 4 | 1 | 0 | 0 | 0 | 1 | 0 |\n| 9584 | Standard Class | Consumer    |  97.980 |  2 | 0.0 | 2 | 1 | 0 | 0 | 0 | 0 | 1 |\n| 9585 | Standard Class | Consumer    |  31.500 | 10 | 0.0 | 4 | 0 | 1 | 0 | 0 | 1 | 0 |\n| 9586 | Standard Class | Consumer    |  55.600 |  4 | 0.0 | 2 | 0 | 1 | 0 | 0 | 1 | 0 |\n| 9587 | Standard Class | Consumer    |  36.240 |  1 | 0.0 | 2 | 0 | 0 | 0 | 1 | 0 | 1 |\n| 9588 | Standard Class | Corporate   |  79.990 |  1 | 0.0 | 2 | 0 | 0 | 1 | 0 | 0 | 1 |\n| 9589 | Standard Class | Corporate   | 206.100 |  5 | 0.0 | 4 | 0 | 0 | 1 | 0 | 0 | 1 |\n| 9590 | Second Class   | Consumer    |  25.248 |  3 | 0.2 | 2 | 0 | 0 | 1 | 0 | 0 | 0 |\n| 9591 | Standard Class | Consumer    |  91.960 |  2 | 0.0 | 2 | 0 | 0 | 0 | 1 | 0 | 0 |\n| 9592 | Standard Class | Consumer    | 258.576 |  2 | 0.2 | 2 | 0 | 0 | 0 | 1 | 0 | 1 |\n| 9593 | Standard Class | Consumer    |  29.600 |  4 | 0.0 | 2 | 0 | 0 | 0 | 1 | 1 | 0 |\n| 9594 | Second Class   | Consumer    | 243.160 |  2 | 0.0 | 2 | 0 | 0 | 0 | 1 | 1 | 0 |\n\n",
            "text/plain": [
              "     Ship Mode      Segment     Sales    Quantity Discount Cluster\n",
              "1    Second Class   Consumer     261.960 2        0.0      2      \n",
              "2    Second Class   Consumer     731.940 3        0.0      3      \n",
              "3    Second Class   Corporate     14.620 2        0.0      2      \n",
              "4    Standard Class Consumer      22.368 2        0.2      2      \n",
              "5    Standard Class Consumer      48.860 7        0.0      4      \n",
              "6    Standard Class Consumer       7.280 4        0.0      2      \n",
              "7    Standard Class Consumer     907.152 6        0.2      3      \n",
              "8    Standard Class Consumer      18.504 3        0.2      2      \n",
              "9    Standard Class Consumer     114.900 5        0.0      4      \n",
              "10   Standard Class Consumer    1706.184 9        0.2      3      \n",
              "11   Standard Class Consumer     911.424 4        0.2      3      \n",
              "12   Standard Class Consumer      15.552 3        0.2      2      \n",
              "13   Standard Class Consumer     407.976 3        0.2      2      \n",
              "14   Standard Class Home Office   68.810 5        0.8      1      \n",
              "15   Standard Class Home Office    2.544 3        0.8      1      \n",
              "16   Standard Class Consumer     665.880 6        0.0      4      \n",
              "17   Second Class   Consumer      55.500 2        0.0      2      \n",
              "18   Second Class   Consumer       8.560 2        0.0      2      \n",
              "19   Second Class   Consumer     213.480 3        0.2      2      \n",
              "20   Second Class   Consumer      22.720 4        0.2      2      \n",
              "21   Standard Class Corporate     19.460 7        0.0      4      \n",
              "22   Standard Class Corporate     60.340 7        0.0      4      \n",
              "23   Second Class   Consumer      71.372 2        0.3      2      \n",
              "24   Standard Class Consumer    1044.630 3        0.0      3      \n",
              "25   Second Class   Consumer      11.648 2        0.2      2      \n",
              "26   Second Class   Consumer      90.570 3        0.0      2      \n",
              "27   Standard Class Consumer       9.618 2        0.7      1      \n",
              "28   Standard Class Consumer     124.200 3        0.2      2      \n",
              "29   Standard Class Consumer       3.264 2        0.2      2      \n",
              "30   Standard Class Consumer      86.304 6        0.2      4      \n",
              "⋮    ⋮              ⋮           ⋮        ⋮        ⋮        ⋮      \n",
              "9565 Same Day       Consumer     10.368   2       0.2      2      \n",
              "9566 Second Class   Corporate    13.400   1       0.0      2      \n",
              "9567 Second Class   Corporate     4.980   1       0.0      2      \n",
              "9568 Second Class   Corporate   109.690   7       0.0      4      \n",
              "9569 Standard Class Consumer     40.200   5       0.0      4      \n",
              "9570 Standard Class Consumer    735.980   2       0.0      3      \n",
              "9571 Standard Class Consumer     22.750   7       0.0      4      \n",
              "9572 Standard Class Home Office 119.560   2       0.0      2      \n",
              "9573 Standard Class Home Office 140.750   5       0.0      4      \n",
              "9574 Standard Class Consumer     99.568   2       0.2      2      \n",
              "9575 Standard Class Home Office 271.960   5       0.2      4      \n",
              "9576 Standard Class Home Office  18.690   7       0.0      4      \n",
              "9577 Standard Class Home Office  13.360   2       0.0      2      \n",
              "9578 Standard Class Home Office 249.584   2       0.2      2      \n",
              "9579 Standard Class Home Office  13.860   7       0.0      4      \n",
              "9580 Standard Class Home Office  13.376   4       0.2      2      \n",
              "9581 Second Class   Consumer     85.980   1       0.0      2      \n",
              "9582 First Class    Consumer     16.520   5       0.2      4      \n",
              "9583 Standard Class Consumer     35.560   7       0.0      4      \n",
              "9584 Standard Class Consumer     97.980   2       0.0      2      \n",
              "9585 Standard Class Consumer     31.500  10       0.0      4      \n",
              "9586 Standard Class Consumer     55.600   4       0.0      2      \n",
              "9587 Standard Class Consumer     36.240   1       0.0      2      \n",
              "9588 Standard Class Corporate    79.990   1       0.0      2      \n",
              "9589 Standard Class Corporate   206.100   5       0.0      4      \n",
              "9590 Second Class   Consumer     25.248   3       0.2      2      \n",
              "9591 Standard Class Consumer     91.960   2       0.0      2      \n",
              "9592 Standard Class Consumer    258.576   2       0.2      2      \n",
              "9593 Standard Class Consumer     29.600   4       0.0      2      \n",
              "9594 Second Class   Consumer    243.160   2       0.0      2      \n",
              "     RegionCentral RegionEast RegionSouth RegionWest CategoryOffice Supplies\n",
              "1    0             0          1           0          0                      \n",
              "2    0             0          1           0          0                      \n",
              "3    0             0          0           1          1                      \n",
              "4    0             0          1           0          1                      \n",
              "5    0             0          0           1          0                      \n",
              "6    0             0          0           1          1                      \n",
              "7    0             0          0           1          0                      \n",
              "8    0             0          0           1          1                      \n",
              "9    0             0          0           1          1                      \n",
              "10   0             0          0           1          0                      \n",
              "11   0             0          0           1          0                      \n",
              "12   0             0          1           0          1                      \n",
              "13   0             0          0           1          1                      \n",
              "14   1             0          0           0          1                      \n",
              "15   1             0          0           0          1                      \n",
              "16   1             0          0           0          1                      \n",
              "17   0             0          0           1          1                      \n",
              "18   0             0          0           1          1                      \n",
              "19   0             0          0           1          0                      \n",
              "20   0             0          0           1          1                      \n",
              "21   1             0          0           0          1                      \n",
              "22   1             0          0           0          1                      \n",
              "23   0             1          0           0          0                      \n",
              "24   0             0          0           1          0                      \n",
              "25   0             0          0           1          1                      \n",
              "26   0             0          0           1          0                      \n",
              "27   0             1          0           0          1                      \n",
              "28   0             1          0           0          0                      \n",
              "29   0             1          0           0          1                      \n",
              "30   0             1          0           0          1                      \n",
              "⋮    ⋮             ⋮          ⋮           ⋮          ⋮                      \n",
              "9565 0             1          0           0          1                      \n",
              "9566 0             1          0           0          0                      \n",
              "9567 0             1          0           0          1                      \n",
              "9568 0             1          0           0          1                      \n",
              "9569 0             1          0           0          1                      \n",
              "9570 0             1          0           0          1                      \n",
              "9571 0             1          0           0          1                      \n",
              "9572 0             0          1           0          1                      \n",
              "9573 0             0          1           0          1                      \n",
              "9574 1             0          0           0          1                      \n",
              "9575 0             0          0           1          0                      \n",
              "9576 0             0          0           1          1                      \n",
              "9577 0             0          0           1          1                      \n",
              "9578 0             0          0           1          0                      \n",
              "9579 0             0          0           1          1                      \n",
              "9580 0             0          0           1          1                      \n",
              "9581 0             0          1           0          0                      \n",
              "9582 0             1          0           0          1                      \n",
              "9583 1             0          0           0          1                      \n",
              "9584 1             0          0           0          0                      \n",
              "9585 0             1          0           0          1                      \n",
              "9586 0             1          0           0          1                      \n",
              "9587 0             0          0           1          0                      \n",
              "9588 0             0          1           0          0                      \n",
              "9589 0             0          1           0          0                      \n",
              "9590 0             0          1           0          0                      \n",
              "9591 0             0          0           1          0                      \n",
              "9592 0             0          0           1          0                      \n",
              "9593 0             0          0           1          1                      \n",
              "9594 0             0          0           1          1                      \n",
              "     CategoryTechnology\n",
              "1    0                 \n",
              "2    0                 \n",
              "3    0                 \n",
              "4    0                 \n",
              "5    0                 \n",
              "6    0                 \n",
              "7    1                 \n",
              "8    0                 \n",
              "9    0                 \n",
              "10   0                 \n",
              "11   1                 \n",
              "12   0                 \n",
              "13   0                 \n",
              "14   0                 \n",
              "15   0                 \n",
              "16   0                 \n",
              "17   0                 \n",
              "18   0                 \n",
              "19   1                 \n",
              "20   0                 \n",
              "21   0                 \n",
              "22   0                 \n",
              "23   0                 \n",
              "24   0                 \n",
              "25   0                 \n",
              "26   1                 \n",
              "27   0                 \n",
              "28   0                 \n",
              "29   0                 \n",
              "30   0                 \n",
              "⋮    ⋮                 \n",
              "9565 0                 \n",
              "9566 0                 \n",
              "9567 0                 \n",
              "9568 0                 \n",
              "9569 0                 \n",
              "9570 0                 \n",
              "9571 0                 \n",
              "9572 0                 \n",
              "9573 0                 \n",
              "9574 0                 \n",
              "9575 1                 \n",
              "9576 0                 \n",
              "9577 0                 \n",
              "9578 1                 \n",
              "9579 0                 \n",
              "9580 0                 \n",
              "9581 0                 \n",
              "9582 0                 \n",
              "9583 0                 \n",
              "9584 1                 \n",
              "9585 0                 \n",
              "9586 0                 \n",
              "9587 1                 \n",
              "9588 1                 \n",
              "9589 1                 \n",
              "9590 0                 \n",
              "9591 0                 \n",
              "9592 1                 \n",
              "9593 0                 \n",
              "9594 0                 "
            ]
          },
          "metadata": {},
          "output_type": "display_data"
        }
      ],
      "source": [
        "# Prepare the data for Profit prediction\n",
        "X_profit <- data %>%\n",
        "  select(-Profit, -`Order ID`, -`Order Date`, -`Ship Date`, -`Customer ID`, -`Customer Name`, -`Product ID`, -`Product Name`,-City,-`Postal Code`,-Country,-State,-`Sub-Category`,-`Row ID`)\n",
        "X_profit"
      ]
    },
    {
      "cell_type": "code",
      "execution_count": null,
      "metadata": {
        "id": "GlURn1UV6qAB"
      },
      "outputs": [],
      "source": [
        "library(stringi)\n",
        "# Prepare the data for Profit prediction\n",
        "X_profit <- data %>%\n",
        "  select(-Profit, -`Order ID`, -`Order Date`, -`Ship Date`, -`Customer ID`, -`Customer Name`, -`Product ID`, -`Product Name`, -Cluster, -City, -Country, -State, -`Postal Code`, -`Sub-Category`, -`Row ID`, -Segment, -`Ship Mode`)\n",
        "\n",
        "# Check for non-ASCII characters in X_profit\n",
        "non_ascii <- apply(X_profit, MARGIN = 2, FUN = function(x) any(!stri_enc_isascii(as.character(x))))\n",
        "\n",
        "# If there are any non-ASCII characters, replace them with ASCII characters\n",
        "if (any(non_ascii)) {\n",
        "  X_profit <- apply(X_profit, MARGIN = 2, FUN = function(x) stri_trans_general(as.character(x), \"Latin-ASCII\"))\n",
        "}\n",
        "\n",
        "# Convert X_profit back to a data frame\n",
        "X_profit <- as.data.frame(X_profit)\n",
        "\n",
        "# Prepare the target variable\n",
        "y_profit <- data$Profit\n",
        "\n",
        "# Split the data into training and testing sets for Profit\n",
        "set.seed(0)  # Setting seed for reproducibility\n",
        "train_index_profit <- createDataPartition(y_profit, p = 0.8, list = FALSE)\n",
        "X_train_profit <- X_profit[train_index_profit, ]\n",
        "X_test_profit <- X_profit[-train_index_profit, ]\n",
        "y_train_profit <- y_profit[train_index_profit]\n",
        "y_test_profit <- y_profit[-train_index_profit]\n"
      ]
    },
    {
      "cell_type": "code",
      "execution_count": null,
      "metadata": {
        "colab": {
          "base_uri": "https://localhost:8080/",
          "height": 52
        },
        "id": "oeGVXLCV6Eab",
        "outputId": "aeffa113-08d6-4f88-b668-0fe5ff14d1ca"
      },
      "outputs": [
        {
          "data": {
            "text/html": [
              "0.438067400912734"
            ],
            "text/latex": "0.438067400912734",
            "text/markdown": "0.438067400912734",
            "text/plain": [
              "[1] 0.4380674"
            ]
          },
          "metadata": {},
          "output_type": "display_data"
        },
        {
          "data": {
            "text/html": [
              "2590.77315813323"
            ],
            "text/latex": "2590.77315813323",
            "text/markdown": "2590.77315813323",
            "text/plain": [
              "[1] 2590.773"
            ]
          },
          "metadata": {},
          "output_type": "display_data"
        }
      ],
      "source": [
        "# Training the linear regression model for Profit\n",
        "model_profit <- train(X_train_profit, y_train_profit, method = \"lm\")\n",
        "\n",
        "# Making predictions on the test set for Profit\n",
        "y_pred_profit <- predict(model_profit, X_test_profit)\n",
        "\n",
        "# Calculating performance metrics for Profit\n",
        "r2_profit <- R2(y_pred_profit, y_test_profit)\n",
        "mse_profit <- mse(y_test_profit, y_pred_profit)\n",
        "\n",
        "# Outputting the results\n",
        "r2_profit\n",
        "mse_profit"
      ]
    },
    {
      "cell_type": "code",
      "execution_count": null,
      "metadata": {
        "id": "6PFdOr4f2VD-"
      },
      "outputs": [],
      "source": [
        "# Prepare the data for Sales prediction\n",
        "X_Sales <- data %>%\n",
        "  select(-Sales, -`Order ID`, -`Order Date`, -`Ship Date`, -`Customer ID`, -`Customer Name`, -`Product ID`, -`Product Name`, -Cluster,-City,-Country,-State,-`Postal Code`,-`Sub-Category`,-`Row ID`,-Segment,-`Ship Mode`)\n",
        "\n",
        "# Check for non-ASCII characters in X_Sales\n",
        "non_ascii <- apply(X_profit, MARGIN = 2, FUN = function(x) any(!stri_enc_isascii(x)))\n",
        "\n",
        "# If there are any non-ASCII characters, replace them with ASCII characters\n",
        "if (any(non_ascii)) {\n",
        "  X_profit <- apply(X_profit, MARGIN = 2, FUN = function(x) stri_trans_general(x, \"Latin-ASCII\"))\n",
        "}\n",
        "\n",
        "# Prepare the target variable\n",
        "y_Sales <- data$Sales\n",
        "\n",
        "# Split the data into training and testing sets for Sales\n",
        "set.seed(0)  # Setting seed for reproducibility\n",
        "train_index_sales <- createDataPartition(y_Sales, p = 0.8, list = FALSE)\n",
        "X_train_sales <- X_Sales[train_index_sales, ]\n",
        "X_test_sales <- X_Sales[-train_index_sales, ]\n",
        "y_train_sales <- y_Sales[train_index_sales]\n",
        "y_test_sales <- y_Sales[-train_index_sales]"
      ]
    },
    {
      "cell_type": "code",
      "execution_count": null,
      "metadata": {
        "colab": {
          "base_uri": "https://localhost:8080/",
          "height": 52
        },
        "id": "qD1Pu-AqK3Wi",
        "outputId": "383c8161-b538-4887-f4ba-3ac78875c1cc"
      },
      "outputs": [
        {
          "data": {
            "text/html": [
              "0.548808489472488"
            ],
            "text/latex": "0.548808489472488",
            "text/markdown": "0.548808489472488",
            "text/plain": [
              "[1] 0.5488085"
            ]
          },
          "metadata": {},
          "output_type": "display_data"
        },
        {
          "data": {
            "text/html": [
              "43380.5417276898"
            ],
            "text/latex": "43380.5417276898",
            "text/markdown": "43380.5417276898",
            "text/plain": [
              "[1] 43380.54"
            ]
          },
          "metadata": {},
          "output_type": "display_data"
        }
      ],
      "source": [
        "# Training the linear regression model for Sales\n",
        "model_sales <- train(X_train_sales, y_train_sales, method = \"lm\")\n",
        "\n",
        "# Making predictions on the test set for Sales\n",
        "y_pred_sales <- predict(model_sales, X_test_sales)\n",
        "\n",
        "# Calculating performance metrics for Sales\n",
        "r2_profit <- R2(y_pred_sales, y_test_sales)\n",
        "mse_profit <- mse(y_test_sales, y_pred_sales)\n",
        "\n",
        "# Outputting the results\n",
        "r2_profit\n",
        "mse_profit"
      ]
    },
    {
      "cell_type": "code",
      "execution_count": null,
      "metadata": {
        "colab": {
          "base_uri": "https://localhost:8080/"
        },
        "id": "azVOxBdELZSe",
        "outputId": "0cd62bac-ae87-4b91-a530-6a5f59398e81"
      },
      "outputs": [
        {
          "name": "stdout",
          "output_type": "stream",
          "text": [
            "            s1\n",
            "[1,] 0.4392835\n",
            "[1] 2576.975\n"
          ]
        }
      ],
      "source": [
        "#Ridge Model To Profit\n",
        "# Convert data to matrix format\n",
        "X_train_profit_matrix <- as.matrix(X_train_profit)\n",
        "X_test_profit_matrix <- as.matrix(X_test_profit)\n",
        "\n",
        "# Train the Ridge Regression model\n",
        "model_ridge_profit <- glmnet(X_train_profit_matrix, y_train_profit, alpha = 0)\n",
        "\n",
        "# Predict on the test set\n",
        "y_pred_ridge_profit <- predict(model_ridge_profit, s = 1.0, newx = X_test_profit_matrix)\n",
        "\n",
        "# Calculate performance metrics\n",
        "r2_ridge_profit <- R2(y_pred_ridge_profit, y_test_profit)\n",
        "mse_ridge_profit <- mean((y_test_profit - y_pred_ridge_profit)^2)\n",
        "\n",
        "print(r2_ridge_profit)\n",
        "print(mse_ridge_profit)"
      ]
    },
    {
      "cell_type": "code",
      "execution_count": null,
      "metadata": {
        "colab": {
          "base_uri": "https://localhost:8080/"
        },
        "id": "0t9UgI4jLi9L",
        "outputId": "3481fe02-98d4-4a82-d3b6-c0b57f82c8f0"
      },
      "outputs": [
        {
          "name": "stdout",
          "output_type": "stream",
          "text": [
            "           s1\n",
            "[1,] 0.547293\n",
            "[1] 44143.76\n"
          ]
        }
      ],
      "source": [
        "#Ridge Model To Sales\n",
        "# Convert data to matrix format\n",
        "X_train_sales_matrix <- as.matrix(X_train_sales)\n",
        "X_test_sales_matrix <- as.matrix(X_test_sales)\n",
        "\n",
        "# Train the Ridge Regression model\n",
        "model_ridge_sales <- glmnet(X_train_sales_matrix, y_train_sales, alpha = 0)\n",
        "\n",
        "# Predict on the test set\n",
        "y_pred_ridge_sales <- predict(model_ridge_sales, s = 1.0, newx = X_test_sales_matrix)\n",
        "\n",
        "# Calculate performance metrics\n",
        "r2_ridge_sales <- R2(y_pred_ridge_sales, y_test_sales)\n",
        "mse_ridge_sales <- mean((y_test_sales - y_pred_ridge_sales)^2)\n",
        "\n",
        "print(r2_ridge_sales)\n",
        "print(mse_ridge_sales)"
      ]
    },
    {
      "cell_type": "markdown",
      "metadata": {
        "id": "lROV6gBkMesy"
      },
      "source": [
        "# Chapitre 5 : Interprétation des résultats\n",
        "\n",
        "## 1. Interprétation des principales découvertes\n",
        "\n",
        "### Résultats de l’analyse descriptive et prédictive\n",
        "\n",
        "**Analyse Descriptive :**\n",
        "\n",
        "- **Distribution des Ventes et des Bénéfices** : Les distributions des ventes et des bénéfices ont montré une grande variation, avec certaines valeurs extrêmes qui ont été traitées en retirant les 1% les plus bas et les plus élevés.\n",
        "- **Segmentation par Région** : Les analyses par région ont révélé des différences significatives dans les ventes et les bénéfices. Par exemple, certaines régions ont montré des ventes et des bénéfices plus élevés, ce qui pourrait indiquer des opportunités de marché ou des besoins spécifiques à ces régions.\n",
        "- **Segmentation par Produit** : Les produits les plus vendus et les plus rentables ont été identifiés. Les analyses ont montré que certains produits génèrent des ventes élevées mais avec des bénéfices faibles ou négatifs, ce qui pourrait indiquer des problèmes de coût ou de prix.\n",
        "\n",
        "**Analyse Prédictive :**\n",
        "\n",
        "- **Modèle de Régression Linéaire pour les Ventes** : Le modèle de régression linéaire pour prédire les ventes a montré un coefficient de détermination (R²) de `r2_sales` et une erreur quadratique moyenne (MSE) de `mse_sales`. Après régularisation avec une régression Ridge, les performances se sont améliorées légèrement.\n",
        "- **Modèle de Régression Linéaire pour les Bénéfices** : Le modèle de régression pour prédire les bénéfices a également montré des résultats similaires avec un `r2_profit` et un `mse_profit`. La régression Ridge a amélioré la précision avec un `r2_ridge_profit` et un `mse_ridge_profit`.\n",
        "\n",
        "### Comparaison avec les études antérieures et la littérature existante\n",
        "\n",
        "Les résultats obtenus peuvent être comparés avec des études antérieures et des publications dans la littérature sur les ventes et la rentabilité des supermarchés. Par exemple :\n",
        "\n",
        "- **Segmentation Régionale** : Des études antérieures ont souvent montré que les ventes et les bénéfices varient significativement selon la région, ce qui est cohérent avec nos résultats. Les stratégies de marketing régionalisé sont souvent recommandées dans la littérature pour maximiser les ventes et les bénéfices.\n",
        "- **Segmentation par Produit** : Les produits qui génèrent des ventes élevées mais des bénéfices faibles sont souvent discutés dans la littérature comme des \"leaders de perte\", où ils attirent les clients mais réduisent la rentabilité globale. Nos résultats suggèrent une révision des stratégies de prix pour ces produits.\n",
        "\n",
        "## 2. Discussion des résultats\n",
        "\n",
        "### Relevance des résultats pour la stratégie de marketing du supermarché\n",
        "\n",
        "Les découvertes principales de cette analyse fournissent des insights précieux pour la stratégie marketing du supermarché :\n",
        "\n",
        "- **Segmentation Régionale** : Les régions avec des ventes et des bénéfices élevés peuvent être ciblées avec des campagnes marketing spécifiques pour maximiser l'impact. Les régions avec des performances inférieures peuvent bénéficier d'une analyse plus approfondie pour comprendre et résoudre les problèmes spécifiques.\n",
        "- **Segmentation par Produit** : Les produits les plus rentables peuvent être promus davantage, tandis que les produits moins rentables pourraient nécessiter une révision des prix, des promotions ou même des réductions de coût pour améliorer la rentabilité.\n",
        "\n",
        "### Implications pratiques et stratégiques\n",
        "\n",
        "- **Optimisation des Promotions** : En utilisant les résultats de la segmentation, le supermarché peut optimiser ses promotions pour se concentrer sur les produits et les régions les plus rentables.\n",
        "- **Ajustement des Prix** : Les modèles prédictifs montrent que certaines catégories de produits pourraient bénéficier d'un ajustement de prix pour améliorer la rentabilité sans affecter les ventes globales.\n",
        "- **Allocation des Ressources** : La compréhension des ventes et des bénéfices par région et par produit permet une meilleure allocation des ressources, tant en termes de stocks que de budget marketing.\n",
        "- **Personnalisation des Offres** : En segmentant les clients en groupes homogènes, le supermarché peut personnaliser les offres et les promotions pour mieux répondre aux besoins spécifiques de chaque segment, augmentant ainsi la satisfaction et la fidélité des clients.\n",
        "\n",
        "Les résultats obtenus fournissent des orientations claires pour améliorer la stratégie marketing et optimiser les performances commerciales du supermarché. L'intégration de ces insights dans la planification stratégique peut aider à maximiser les ventes, les bénéfices et la satisfaction client.\n"
      ]
    },
    {
      "cell_type": "markdown",
      "metadata": {
        "id": "1_X8U4t9L5--"
      },
      "source": [
        "# Recommandations pratiques pour le marketing\n",
        "\n",
        "## Suggestions pour améliorer les stratégies de marketing basées sur les résultats de l'étude\n",
        "\n",
        "- **Cibler les Régions Rentables** : Concentrer les efforts de marketing et les campagnes promotionnelles sur les régions ayant les ventes et les bénéfices les plus élevés. Par exemple, utiliser des publicités locales, des événements régionaux et des offres exclusives pour fidéliser les clients existants et attirer de nouveaux clients dans ces zones.\n",
        "  \n",
        "- **Optimisation des Prix** : Ajuster les prix des produits identifiés comme ayant des ventes élevées mais des bénéfices faibles. Une analyse plus approfondie peut déterminer si ces produits doivent être repositionnés comme des articles premium ou des leaders de perte stratégiques.\n",
        "  \n",
        "- **Promotions Ciblées** : Utiliser les données de segmentation pour créer des promotions spécifiques aux segments de clients. Par exemple, offrir des remises ou des points de fidélité supplémentaires aux clients réguliers dans les segments les plus rentables.\n",
        "  \n",
        "- **Amélioration de l'Expérience Client** : Investir dans l'amélioration de l'expérience client pour les segments les plus rentables. Cela pourrait inclure des programmes de fidélité améliorés, un service client personnalisé, et des options d'achat plus flexibles comme la livraison à domicile ou le retrait en magasin.\n",
        "\n",
        "## Recommandations spécifiques pour la segmentation des clients, des catégories de produits et des régions\n",
        "\n",
        "- **Segmentation des Clients** : Développer des campagnes de marketing personnalisées pour chaque segment de clients. Par exemple, offrir des réductions pour les clients fidèles, des programmes de fidélité pour les nouveaux clients, et des offres spéciales pour les segments de clients à haut potentiel.\n",
        "  \n",
        "- **Segmentation des Produits** : Revoir les stratégies de gestion des catégories de produits en se concentrant sur les produits les plus rentables. Pour les produits avec des ventes élevées mais des bénéfices faibles, explorer des stratégies de réduction des coûts ou des ajustements de prix.\n",
        "  \n",
        "- **Segmentation des Régions** : Adapter les stratégies de marketing aux caractéristiques spécifiques de chaque région. Par exemple, des campagnes publicitaires localisées, des promotions régionales et des ajustements d'assortiment de produits en fonction des préférences régionales.\n",
        "\n",
        "# Propositions pour les futures recherches\n",
        "\n",
        "## Domaines de recherche futurs pour approfondir l'analyse des données marketing\n",
        "\n",
        "- **Analyse des Comportements d'Achat** : Étudier les comportements d'achat des clients pour mieux comprendre les facteurs influençant leurs décisions. Cela peut inclure l'analyse des paniers moyens, des fréquences d'achat, et des préférences pour certaines catégories de produits.\n",
        "  \n",
        "- **Études de Satisfaction Client** : Mener des enquêtes de satisfaction client pour recueillir des informations qualitatives sur les expériences des clients. Ces informations peuvent compléter les analyses quantitatives et offrir des perspectives précieuses pour l'amélioration des services.\n",
        "  \n",
        "- **Analyse Concurrentielle** : Analyser les stratégies de marketing et les performances des concurrents pour identifier des opportunités et des menaces. Cela pourrait inclure une analyse des parts de marché, des prix et des promotions des concurrents.\n",
        "\n",
        "## Propositions pour améliorer la méthodologie et élargir la portée de l'étude\n",
        "\n",
        "- **Collecte de Données Plus Granulaire** : Améliorer la collecte de données pour inclure des informations plus détaillées, comme les données de transaction individuelles, les interactions en ligne, et les retours des clients.\n",
        "  \n",
        "- **Méthodes de Modélisation Avancées** : Utiliser des méthodes de modélisation plus avancées, comme l'apprentissage automatique, pour améliorer la précision des prédictions et découvrir des modèles complexes dans les données.\n",
        "  \n",
        "- **Études Longitudinales** : Réaliser des études longitudinales pour suivre les performances des stratégies de marketing sur une période plus longue. Cela peut aider à identifier les tendances à long terme et les effets des interventions marketing.\n",
        "\n",
        "# Les limites de l’étude\n",
        "\n",
        "## Identification des limites rencontrées lors de l'enquête\n",
        "\n",
        "- **Données Incomplètes** : Certaines données pourraient être manquantes ou incomplètes, ce qui pourrait limiter la précision des analyses.\n",
        "  \n",
        "- **Biais des Données** : Les données peuvent contenir des biais, tels que des biais de sélection ou de réponse, qui peuvent influencer les résultats.\n",
        "  \n",
        "- **Limitations des Méthodes** : Les méthodes utilisées, comme la régression linéaire, peuvent ne pas capturer toutes les complexités des données. Des méthodes plus avancées pourraient être nécessaires pour une analyse plus précise.\n",
        "\n",
        "## Impact de ces limitations sur les résultats et les conclusions\n",
        "\n",
        "- **Précision des Prédictions** : Les modèles prédictifs peuvent avoir une précision limitée en raison des données incomplètes ou des biais. Les résultats doivent donc être interprétés avec prudence.\n",
        "  \n",
        "- **Généralisation des Résultats** : Les conclusions de l'étude peuvent ne pas être généralisables à d'autres contextes ou périodes en raison des spécificités des données utilisées.\n",
        "  \n",
        "- **Interprétation des Modèles** : Les modèles peuvent simplifier la réalité et ne pas capturer toutes les relations complexes entre les variables. Cela peut limiter la capacité à tirer des conclusions définitives.\n"
      ]
    }
  ],
  "metadata": {
    "colab": {
      "collapsed_sections": [
        "auRf0M1z1Ajj",
        "z5fF9nOO2jNy",
        "x8eWEFsl7NIe",
        "S3Xex1gEFWgh"
      ],
      "provenance": [],
      "include_colab_link": true
    },
    "kernelspec": {
      "display_name": "R",
      "name": "ir"
    },
    "language_info": {
      "name": "R"
    }
  },
  "nbformat": 4,
  "nbformat_minor": 0
}